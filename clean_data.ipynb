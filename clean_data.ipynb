{
 "cells": [
  {
   "cell_type": "code",
   "execution_count": 16,
   "metadata": {},
   "outputs": [],
   "source": [
    "import os\n",
    "import numpy as np\n",
    "import pandas as pd"
   ]
  },
  {
   "cell_type": "markdown",
   "metadata": {},
   "source": [
    "## <p style='text-align: center; text-decoration: underline; color: #10A0B4;'> Datos oficiales de la **Union Europea** </p>\n",
    "[Origen de los datos](https://www.eea.europa.eu/en/datahub/datahubitem-view/fa8b1229-3db6-495d-b18e-9c9b3267c02b)"
   ]
  },
  {
   "cell_type": "markdown",
   "metadata": {},
   "source": [
    "---"
   ]
  },
  {
   "cell_type": "markdown",
   "metadata": {},
   "source": [
    "## Autos registrados desde **2017** hasta **2023**"
   ]
  },
  {
   "cell_type": "markdown",
   "metadata": {},
   "source": [
    "---"
   ]
  },
  {
   "cell_type": "markdown",
   "metadata": {},
   "source": [
    "# <p style='text-align: center; color: orange;'>Normativa euro 6</p>"
   ]
  },
  {
   "cell_type": "markdown",
   "metadata": {
    "vscode": {
     "languageId": "html"
    }
   },
   "source": [
    "# <p style='text-align: center; text-decoration: underline; color: green;'>Limpiado de datos</p>\n",
    "#### El dataset contiene mas de **14 Gigas** de informacion (69.643.588 filas).\n",
    "\n",
    "El gran tamano del conjunto de datos trae problemas:\n",
    "- No puedo subirlo a GitHub (+100MB). \n",
    "- Lento procesamiento.\n",
    "\n",
    "Vamos a resolver ambas cuentiones achicando el dataset de manera tal que el impacto por usar menos informacion sea minimo"
   ]
  },
  {
   "cell_type": "markdown",
   "metadata": {},
   "source": [
    "---"
   ]
  },
  {
   "cell_type": "code",
   "execution_count": 17,
   "metadata": {},
   "outputs": [
    {
     "name": "stdout",
     "output_type": "stream",
     "text": [
      "El archivo pesa 14.07 Gigas\n"
     ]
    }
   ],
   "source": [
    "weight_file_GB = ((os.path.getsize('data.csv')/1024)/1024)/1024\n",
    "print('El archivo pesa', round(weight_file_GB, 2), 'Gigas')"
   ]
  },
  {
   "cell_type": "code",
   "execution_count": 18,
   "metadata": {},
   "outputs": [
    {
     "name": "stdout",
     "output_type": "stream",
     "text": [
      "Columnas del data frame crudo: \n",
      " Index(['ID', 'Country', 'VFN', 'Mp', 'Mh', 'Man', 'MMS', 'Tan', 'T', 'Va',\n",
      "       'Ve', 'Mk', 'Cn', 'Ct', 'Cr', 'r', 'm (kg)', 'Mt', 'Enedc (g/km)',\n",
      "       'Ewltp (g/km)', 'W (mm)', 'At1 (mm)', 'At2 (mm)', 'Ft', 'Fm',\n",
      "       'ec (cm3)', 'ep (KW)', 'z (Wh/km)', 'IT', 'Ernedc (g/km)',\n",
      "       'Erwltp (g/km)', 'De', 'Vf', 'Status', 'year', 'Date of registration',\n",
      "       'Fuel consumption ', 'ech', 'RLFI', 'Electric range (km)'],\n",
      "      dtype='object')\n",
      "\n",
      "\n",
      "Columnas que nos sirven para el proyecto: \n",
      " Index(['ID', 'm (kg)', 'Ewltp (g/km)', 'Ft', 'ec (cm3)', 'Fuel consumption '], dtype='object')\n"
     ]
    }
   ],
   "source": [
    "# Obtenemos las columnas del Data Frame\n",
    "df_columns = pd.read_csv('data.csv', nrows=0)\n",
    "print('Columnas del data frame crudo: \\n', df_columns.columns)\n",
    "\n",
    "# Cargamos unicamente las que nos interesan\n",
    "df_columns.drop(columns=['year', 'Country', 'Date of registration', 'Enedc (g/km)', 'r', 'VFN', 'Mp', 'Man', 'Tan', 'T', 'Va', 'Ve', 'MMS', 'Ct', 'Cr', 'Mt', 'W (mm)', 'At1 (mm)', 'At2 (mm)', 'Fm', 'IT', 'Ernedc (g/km)', 'Erwltp (g/km)', 'De','Vf', 'Status', 'ech', 'RLFI', 'Mh', 'z (Wh/km)', 'ep (KW)', 'Mk', 'Cn', 'Electric range (km)'], inplace=True)\n",
    "columns_to_load = ['ID', 'm (kg)', 'Ewltp (g/km)', 'Ft', 'ec (cm3)', 'Fuel consumption ']\n",
    "\n",
    "# Separamos la informacion en fragmentos de 1 millon para que la computadora no se sobresature\n",
    "df_crud = pd.read_csv('data.csv', chunksize=1000000, usecols=columns_to_load)\n",
    "\n",
    "print('\\n\\nColumnas que nos sirven para el proyecto: \\n', df_columns.columns)"
   ]
  },
  {
   "cell_type": "code",
   "execution_count": 19,
   "metadata": {},
   "outputs": [
    {
     "name": "stderr",
     "output_type": "stream",
     "text": [
      "C:\\Users\\matia\\AppData\\Local\\Temp\\ipykernel_25924\\1007045851.py:13: FutureWarning: The behavior of DataFrame concatenation with empty or all-NA entries is deprecated. In a future version, this will no longer exclude empty or all-NA columns when determining the result dtypes. To retain the old behavior, exclude the relevant entries before the concat operation.\n",
      "  df = pd.concat([df, chunk], ignore_index=True)\n"
     ]
    },
    {
     "name": "stdout",
     "output_type": "stream",
     "text": [
      "(15023885, 6)\n"
     ]
    }
   ],
   "source": [
    "# Creamos el dataframe que utilisaremos\n",
    "df = pd.DataFrame(columns=df_columns.columns)\n",
    "\n",
    "# Cambiamos de nombre algunas columnas\n",
    "rename_columns = {'m (kg)': 'Mass_(kg)', 'Ewltp (g/km)': 'CO2_emission_(g/km)', 'Ft': 'Fuel_type', 'ec (cm3)': 'Engine_size_cm3', 'Fuel consumption ': 'Fuel_consumption_(l/100km)'}\n",
    "df.rename(columns=rename_columns, inplace=True)\n",
    "\n",
    "for chunk in df_crud:\n",
    "\n",
    "    chunk.rename(columns=rename_columns, inplace=True)    \n",
    "    chunk = chunk.dropna()\n",
    "    \n",
    "    df = pd.concat([df, chunk], ignore_index=True)\n",
    "    \n",
    "print(df.shape)\n",
    "\n",
    "# Lo guardo en un archivo aparte para evitar volver a ejecutar esta celda\n",
    "df.to_csv('df_data_clean.csv', index=False)"
   ]
  },
  {
   "cell_type": "markdown",
   "metadata": {},
   "source": [
    "---\n",
    "---\n",
    "---"
   ]
  },
  {
   "cell_type": "markdown",
   "metadata": {},
   "source": [
    "### Limpiando los datos"
   ]
  },
  {
   "cell_type": "code",
   "execution_count": 20,
   "metadata": {},
   "outputs": [
    {
     "name": "stdout",
     "output_type": "stream",
     "text": [
      "Tamano del archivo df1: 591.11 MB\n"
     ]
    },
    {
     "data": {
      "text/plain": [
       "(15023885, 6)"
      ]
     },
     "execution_count": 20,
     "metadata": {},
     "output_type": "execute_result"
    }
   ],
   "source": [
    "df1 = pd.read_csv('df_data_clean.csv')\n",
    "print('Tamano del archivo df1:', (round((os.path.getsize('df_data_clean.csv')/1024)/1024, 2)), 'MB')\n",
    "df1.shape"
   ]
  },
  {
   "cell_type": "code",
   "execution_count": 21,
   "metadata": {},
   "outputs": [
    {
     "name": "stdout",
     "output_type": "stream",
     "text": [
      "Fuel_type\n",
      "petrol             5101007\n",
      "PETROL             4334156\n",
      "DIESEL             1891905\n",
      "diesel             1815946\n",
      "petrol/electric     828111\n",
      "PETROL/ELECTRIC     451775\n",
      "lpg                 237865\n",
      "LPG                 164343\n",
      "DIESEL/ELECTRIC      55721\n",
      "diesel/electric      41836\n",
      "e85                  38871\n",
      "NG                   34385\n",
      "ng                   17583\n",
      "E85                   5969\n",
      "NG-BIOMETHANE         4408\n",
      "unknown                  2\n",
      "UNKNOWN                  1\n",
      "ELECTRIC                 1\n",
      "Name: count, dtype: int64\n",
      "PETROL 6\n",
      "PETROL/ELECTRIC 15\n",
      "DIESEL 6\n",
      "LPG 3\n",
      "NG-BIOMETHANE 13\n",
      "DIESEL/ELECTRIC 15\n",
      "NG 2\n",
      "E85 3\n",
      "UNKNOWN 7\n",
      "ELECTRIC 8\n",
      "petrol 6\n",
      "diesel 6\n",
      "lpg 3\n",
      "petrol/electric 15\n",
      "diesel/electric 15\n",
      "ng 2\n",
      "e85 3\n",
      "unknown 7\n"
     ]
    }
   ],
   "source": [
    "#Tipos de combustibles\n",
    "print(df1['Fuel_type'].value_counts())\n",
    "\n",
    "for fuel_type in df1['Fuel_type'].unique():\n",
    "    print(fuel_type, len(fuel_type))"
   ]
  },
  {
   "cell_type": "code",
   "execution_count": 22,
   "metadata": {},
   "outputs": [
    {
     "name": "stderr",
     "output_type": "stream",
     "text": [
      "C:\\Users\\matia\\AppData\\Local\\Temp\\ipykernel_25924\\3229457277.py:9: FutureWarning: DataFrame.applymap has been deprecated. Use DataFrame.map instead.\n",
      "  df1 = df1[~df1.applymap(lambda x: follow_words(x, word_to_delete)).any(axis=1)]\n"
     ]
    },
    {
     "data": {
      "text/plain": [
       "Fuel_type\n",
       "petrol             9435163\n",
       "diesel             3707851\n",
       "petrol/electric    1279886\n",
       "lpg                 402208\n",
       "diesel/electric      97557\n",
       "ng                   51968\n",
       "e85                  44840\n",
       "ng-biomethane         4408\n",
       "electric                 1\n",
       "Name: count, dtype: int64"
      ]
     },
     "execution_count": 22,
     "metadata": {},
     "output_type": "execute_result"
    }
   ],
   "source": [
    "#Todo en minuscula y sin espacios\n",
    "df1['Fuel_type'] = df1['Fuel_type'].str.lower().replace(' ', '').apply(lambda x: x.strip())\n",
    "\n",
    "#Eliminamos los que no se sabe su combustible\n",
    "word_to_delete = ['unknown']\n",
    "def follow_words(text, words):\n",
    "    return any(word in str(text) for word in words)\n",
    "\n",
    "df1 = df1[~df1.applymap(lambda x: follow_words(x, word_to_delete)).any(axis=1)]\n",
    "\n",
    "df1['Fuel_type'].value_counts()"
   ]
  },
  {
   "cell_type": "markdown",
   "metadata": {},
   "source": [
    "### +85% de los vehiculos usa nafta o diesel\n",
    "Unicamente vamos a utilizar los que usan nafta y diesel"
   ]
  },
  {
   "cell_type": "code",
   "execution_count": 23,
   "metadata": {},
   "outputs": [
    {
     "name": "stdout",
     "output_type": "stream",
     "text": [
      "{('petrol',): 9435163, ('diesel',): 3707851, ('petrol/electric',): 1279886, ('lpg',): 402208, ('diesel/electric',): 97557, ('ng',): 51968, ('e85',): 44840, ('ng-biomethane',): 4408, ('electric',): 1}\n",
      "{'petrol': 9435163, 'diesel': 3707851, 'petrol/electric': 1279886, 'lpg': 402208, 'diesel/electric': 97557, 'ng': 51968, 'e85': 44840, 'ng-biomethane': 4408, 'electric': 1}\n",
      "\n",
      " {'petrol': 62.8, 'diesel': 24.68, 'petrol/electric': 8.52, 'lpg': 2.68, 'diesel/electric': 0.65, 'ng': 0.35, 'e85': 0.3, 'ng-biomethane': 0.03, 'electric': 0.0}\n"
     ]
    },
    {
     "data": {
      "text/plain": [
       "Fuel_type\n",
       "petrol       9435163\n",
       "diesel       3707851\n",
       "Name: count, dtype: int64"
      ]
     },
     "execution_count": 23,
     "metadata": {},
     "output_type": "execute_result"
    }
   ],
   "source": [
    "fuel_type_count = dict(df1[['Fuel_type']].value_counts())\n",
    "print(fuel_type_count)\n",
    "\n",
    "fuel_type_count = {str(key[0]): value for key, value in fuel_type_count.items()}\n",
    "print(fuel_type_count)\n",
    "\n",
    "fuel_type_count = {key: round((value/df1.shape[0])*100, 2) for key, value in fuel_type_count.items()}\n",
    "print('\\n', fuel_type_count)\n",
    "\n",
    "#Porcentaje de uso de cada combustible\n",
    "df1 = df1[df1['Fuel_type'].isin(['petrol', 'diesel'])]\n",
    "df1[['Fuel_type']].value_counts()"
   ]
  },
  {
   "cell_type": "code",
   "execution_count": 24,
   "metadata": {},
   "outputs": [
    {
     "data": {
      "text/html": [
       "<div>\n",
       "<style scoped>\n",
       "    .dataframe tbody tr th:only-of-type {\n",
       "        vertical-align: middle;\n",
       "    }\n",
       "\n",
       "    .dataframe tbody tr th {\n",
       "        vertical-align: top;\n",
       "    }\n",
       "\n",
       "    .dataframe thead th {\n",
       "        text-align: right;\n",
       "    }\n",
       "</style>\n",
       "<table border=\"1\" class=\"dataframe\">\n",
       "  <thead>\n",
       "    <tr style=\"text-align: right;\">\n",
       "      <th></th>\n",
       "      <th>ID</th>\n",
       "      <th>Mass_(kg)</th>\n",
       "      <th>CO2_emission_(g/km)</th>\n",
       "      <th>Fuel_type</th>\n",
       "      <th>Engine_size</th>\n",
       "      <th>Fuel_consumption_(l/100km)</th>\n",
       "    </tr>\n",
       "  </thead>\n",
       "  <tbody>\n",
       "    <tr>\n",
       "      <th>0</th>\n",
       "      <td>56003309</td>\n",
       "      <td>1710.0</td>\n",
       "      <td>128.0</td>\n",
       "      <td>petrol</td>\n",
       "      <td>2.487</td>\n",
       "      <td>5.7</td>\n",
       "    </tr>\n",
       "    <tr>\n",
       "      <th>1</th>\n",
       "      <td>56003313</td>\n",
       "      <td>1710.0</td>\n",
       "      <td>128.0</td>\n",
       "      <td>petrol</td>\n",
       "      <td>2.487</td>\n",
       "      <td>5.7</td>\n",
       "    </tr>\n",
       "    <tr>\n",
       "      <th>2</th>\n",
       "      <td>56003314</td>\n",
       "      <td>1710.0</td>\n",
       "      <td>128.0</td>\n",
       "      <td>petrol</td>\n",
       "      <td>2.487</td>\n",
       "      <td>5.7</td>\n",
       "    </tr>\n",
       "    <tr>\n",
       "      <th>3</th>\n",
       "      <td>56003351</td>\n",
       "      <td>1635.0</td>\n",
       "      <td>160.0</td>\n",
       "      <td>petrol</td>\n",
       "      <td>1.987</td>\n",
       "      <td>7.1</td>\n",
       "    </tr>\n",
       "    <tr>\n",
       "      <th>4</th>\n",
       "      <td>56003352</td>\n",
       "      <td>1635.0</td>\n",
       "      <td>160.0</td>\n",
       "      <td>petrol</td>\n",
       "      <td>1.987</td>\n",
       "      <td>7.1</td>\n",
       "    </tr>\n",
       "    <tr>\n",
       "      <th>...</th>\n",
       "      <td>...</td>\n",
       "      <td>...</td>\n",
       "      <td>...</td>\n",
       "      <td>...</td>\n",
       "      <td>...</td>\n",
       "      <td>...</td>\n",
       "    </tr>\n",
       "    <tr>\n",
       "      <th>15023880</th>\n",
       "      <td>86000221</td>\n",
       "      <td>985.0</td>\n",
       "      <td>125.0</td>\n",
       "      <td>petrol</td>\n",
       "      <td>1.193</td>\n",
       "      <td>5.5</td>\n",
       "    </tr>\n",
       "    <tr>\n",
       "      <th>15023881</th>\n",
       "      <td>86000222</td>\n",
       "      <td>985.0</td>\n",
       "      <td>125.0</td>\n",
       "      <td>petrol</td>\n",
       "      <td>1.193</td>\n",
       "      <td>5.5</td>\n",
       "    </tr>\n",
       "    <tr>\n",
       "      <th>15023882</th>\n",
       "      <td>86000223</td>\n",
       "      <td>985.0</td>\n",
       "      <td>125.0</td>\n",
       "      <td>petrol</td>\n",
       "      <td>1.193</td>\n",
       "      <td>5.5</td>\n",
       "    </tr>\n",
       "    <tr>\n",
       "      <th>15023883</th>\n",
       "      <td>86000224</td>\n",
       "      <td>985.0</td>\n",
       "      <td>125.0</td>\n",
       "      <td>petrol</td>\n",
       "      <td>1.193</td>\n",
       "      <td>5.5</td>\n",
       "    </tr>\n",
       "    <tr>\n",
       "      <th>15023884</th>\n",
       "      <td>86000225</td>\n",
       "      <td>985.0</td>\n",
       "      <td>125.0</td>\n",
       "      <td>petrol</td>\n",
       "      <td>1.193</td>\n",
       "      <td>5.5</td>\n",
       "    </tr>\n",
       "  </tbody>\n",
       "</table>\n",
       "<p>13143014 rows × 6 columns</p>\n",
       "</div>"
      ],
      "text/plain": [
       "                ID  Mass_(kg)  CO2_emission_(g/km) Fuel_type  Engine_size  \\\n",
       "0         56003309     1710.0                128.0    petrol        2.487   \n",
       "1         56003313     1710.0                128.0    petrol        2.487   \n",
       "2         56003314     1710.0                128.0    petrol        2.487   \n",
       "3         56003351     1635.0                160.0    petrol        1.987   \n",
       "4         56003352     1635.0                160.0    petrol        1.987   \n",
       "...            ...        ...                  ...       ...          ...   \n",
       "15023880  86000221      985.0                125.0    petrol        1.193   \n",
       "15023881  86000222      985.0                125.0    petrol        1.193   \n",
       "15023882  86000223      985.0                125.0    petrol        1.193   \n",
       "15023883  86000224      985.0                125.0    petrol        1.193   \n",
       "15023884  86000225      985.0                125.0    petrol        1.193   \n",
       "\n",
       "          Fuel_consumption_(l/100km)  \n",
       "0                                5.7  \n",
       "1                                5.7  \n",
       "2                                5.7  \n",
       "3                                7.1  \n",
       "4                                7.1  \n",
       "...                              ...  \n",
       "15023880                         5.5  \n",
       "15023881                         5.5  \n",
       "15023882                         5.5  \n",
       "15023883                         5.5  \n",
       "15023884                         5.5  \n",
       "\n",
       "[13143014 rows x 6 columns]"
      ]
     },
     "execution_count": 24,
     "metadata": {},
     "output_type": "execute_result"
    }
   ],
   "source": [
    "#Cambiamos las unidades\n",
    "df1['Engine_size_cm3'] = df1['Engine_size_cm3']/1000\n",
    "df1.rename(columns={'Engine_size_cm3': 'Engine_size'}, inplace=True)\n",
    "\n",
    "df1.to_csv('df_data_clean.csv')\n",
    "\n",
    "df1"
   ]
  },
  {
   "cell_type": "code",
   "execution_count": 25,
   "metadata": {},
   "outputs": [
    {
     "name": "stderr",
     "output_type": "stream",
     "text": [
      "C:\\Users\\matia\\AppData\\Local\\Temp\\ipykernel_25924\\3368429138.py:2: UserWarning: Boolean Series key will be reindexed to match DataFrame index.\n",
      "  df1 = df1[df['Fuel_consumption_(l/100km)'] > 5.4]\n"
     ]
    },
    {
     "data": {
      "text/html": [
       "<div>\n",
       "<style scoped>\n",
       "    .dataframe tbody tr th:only-of-type {\n",
       "        vertical-align: middle;\n",
       "    }\n",
       "\n",
       "    .dataframe tbody tr th {\n",
       "        vertical-align: top;\n",
       "    }\n",
       "\n",
       "    .dataframe thead th {\n",
       "        text-align: right;\n",
       "    }\n",
       "</style>\n",
       "<table border=\"1\" class=\"dataframe\">\n",
       "  <thead>\n",
       "    <tr style=\"text-align: right;\">\n",
       "      <th></th>\n",
       "      <th>ID</th>\n",
       "      <th>Mass_(kg)</th>\n",
       "      <th>CO2_emission_(g/km)</th>\n",
       "      <th>Fuel_type</th>\n",
       "      <th>Engine_size</th>\n",
       "      <th>Fuel_consumption_(l/100km)</th>\n",
       "    </tr>\n",
       "  </thead>\n",
       "  <tbody>\n",
       "    <tr>\n",
       "      <th>0</th>\n",
       "      <td>56003309</td>\n",
       "      <td>1710.0</td>\n",
       "      <td>128.0</td>\n",
       "      <td>petrol</td>\n",
       "      <td>2.487</td>\n",
       "      <td>5.7</td>\n",
       "    </tr>\n",
       "    <tr>\n",
       "      <th>1</th>\n",
       "      <td>56003313</td>\n",
       "      <td>1710.0</td>\n",
       "      <td>128.0</td>\n",
       "      <td>petrol</td>\n",
       "      <td>2.487</td>\n",
       "      <td>5.7</td>\n",
       "    </tr>\n",
       "    <tr>\n",
       "      <th>2</th>\n",
       "      <td>56003314</td>\n",
       "      <td>1710.0</td>\n",
       "      <td>128.0</td>\n",
       "      <td>petrol</td>\n",
       "      <td>2.487</td>\n",
       "      <td>5.7</td>\n",
       "    </tr>\n",
       "    <tr>\n",
       "      <th>3</th>\n",
       "      <td>56003351</td>\n",
       "      <td>1635.0</td>\n",
       "      <td>160.0</td>\n",
       "      <td>petrol</td>\n",
       "      <td>1.987</td>\n",
       "      <td>7.1</td>\n",
       "    </tr>\n",
       "    <tr>\n",
       "      <th>4</th>\n",
       "      <td>56003352</td>\n",
       "      <td>1635.0</td>\n",
       "      <td>160.0</td>\n",
       "      <td>petrol</td>\n",
       "      <td>1.987</td>\n",
       "      <td>7.1</td>\n",
       "    </tr>\n",
       "    <tr>\n",
       "      <th>...</th>\n",
       "      <td>...</td>\n",
       "      <td>...</td>\n",
       "      <td>...</td>\n",
       "      <td>...</td>\n",
       "      <td>...</td>\n",
       "      <td>...</td>\n",
       "    </tr>\n",
       "    <tr>\n",
       "      <th>15023880</th>\n",
       "      <td>86000221</td>\n",
       "      <td>985.0</td>\n",
       "      <td>125.0</td>\n",
       "      <td>petrol</td>\n",
       "      <td>1.193</td>\n",
       "      <td>5.5</td>\n",
       "    </tr>\n",
       "    <tr>\n",
       "      <th>15023881</th>\n",
       "      <td>86000222</td>\n",
       "      <td>985.0</td>\n",
       "      <td>125.0</td>\n",
       "      <td>petrol</td>\n",
       "      <td>1.193</td>\n",
       "      <td>5.5</td>\n",
       "    </tr>\n",
       "    <tr>\n",
       "      <th>15023882</th>\n",
       "      <td>86000223</td>\n",
       "      <td>985.0</td>\n",
       "      <td>125.0</td>\n",
       "      <td>petrol</td>\n",
       "      <td>1.193</td>\n",
       "      <td>5.5</td>\n",
       "    </tr>\n",
       "    <tr>\n",
       "      <th>15023883</th>\n",
       "      <td>86000224</td>\n",
       "      <td>985.0</td>\n",
       "      <td>125.0</td>\n",
       "      <td>petrol</td>\n",
       "      <td>1.193</td>\n",
       "      <td>5.5</td>\n",
       "    </tr>\n",
       "    <tr>\n",
       "      <th>15023884</th>\n",
       "      <td>86000225</td>\n",
       "      <td>985.0</td>\n",
       "      <td>125.0</td>\n",
       "      <td>petrol</td>\n",
       "      <td>1.193</td>\n",
       "      <td>5.5</td>\n",
       "    </tr>\n",
       "  </tbody>\n",
       "</table>\n",
       "<p>6711522 rows × 6 columns</p>\n",
       "</div>"
      ],
      "text/plain": [
       "                ID  Mass_(kg)  CO2_emission_(g/km) Fuel_type  Engine_size  \\\n",
       "0         56003309     1710.0                128.0    petrol        2.487   \n",
       "1         56003313     1710.0                128.0    petrol        2.487   \n",
       "2         56003314     1710.0                128.0    petrol        2.487   \n",
       "3         56003351     1635.0                160.0    petrol        1.987   \n",
       "4         56003352     1635.0                160.0    petrol        1.987   \n",
       "...            ...        ...                  ...       ...          ...   \n",
       "15023880  86000221      985.0                125.0    petrol        1.193   \n",
       "15023881  86000222      985.0                125.0    petrol        1.193   \n",
       "15023882  86000223      985.0                125.0    petrol        1.193   \n",
       "15023883  86000224      985.0                125.0    petrol        1.193   \n",
       "15023884  86000225      985.0                125.0    petrol        1.193   \n",
       "\n",
       "          Fuel_consumption_(l/100km)  \n",
       "0                                5.7  \n",
       "1                                5.7  \n",
       "2                                5.7  \n",
       "3                                7.1  \n",
       "4                                7.1  \n",
       "...                              ...  \n",
       "15023880                         5.5  \n",
       "15023881                         5.5  \n",
       "15023882                         5.5  \n",
       "15023883                         5.5  \n",
       "15023884                         5.5  \n",
       "\n",
       "[6711522 rows x 6 columns]"
      ]
     },
     "execution_count": 25,
     "metadata": {},
     "output_type": "execute_result"
    }
   ],
   "source": [
    "#El auto que menos combustible consume es de 5.4 l/100km. Si hay autos que consumen menos es porque estan mal catalogados y son hibridos.\n",
    "df1 = df1[df['Fuel_consumption_(l/100km)'] > 5.4]\n",
    "df1"
   ]
  },
  {
   "cell_type": "code",
   "execution_count": 26,
   "metadata": {},
   "outputs": [],
   "source": [
    "#Codificamos la variable 'fuel'\n",
    "df1 = pd.get_dummies(df1, columns=['Fuel_type'])"
   ]
  },
  {
   "cell_type": "markdown",
   "metadata": {},
   "source": [
    "---"
   ]
  },
  {
   "cell_type": "markdown",
   "metadata": {},
   "source": [
    "### <p style='color: green; text-align: center;'>Vamos a utilizar 1 millon de filas para que el archivo pese menos de 100 megas y poder subirlo a GitHub</p>"
   ]
  },
  {
   "cell_type": "code",
   "execution_count": 27,
   "metadata": {},
   "outputs": [
    {
     "name": "stdout",
     "output_type": "stream",
     "text": [
      "Tamano del archivo df2: 41.84 MB\n",
      "(1000000, 7)\n"
     ]
    },
    {
     "data": {
      "text/html": [
       "<div>\n",
       "<style scoped>\n",
       "    .dataframe tbody tr th:only-of-type {\n",
       "        vertical-align: middle;\n",
       "    }\n",
       "\n",
       "    .dataframe tbody tr th {\n",
       "        vertical-align: top;\n",
       "    }\n",
       "\n",
       "    .dataframe thead th {\n",
       "        text-align: right;\n",
       "    }\n",
       "</style>\n",
       "<table border=\"1\" class=\"dataframe\">\n",
       "  <thead>\n",
       "    <tr style=\"text-align: right;\">\n",
       "      <th></th>\n",
       "      <th>ID</th>\n",
       "      <th>Mass_(kg)</th>\n",
       "      <th>CO2_emission_(g/km)</th>\n",
       "      <th>Engine_size</th>\n",
       "      <th>Fuel_consumption_(l/100km)</th>\n",
       "      <th>Fuel_type_diesel</th>\n",
       "      <th>Fuel_type_petrol</th>\n",
       "    </tr>\n",
       "  </thead>\n",
       "  <tbody>\n",
       "    <tr>\n",
       "      <th>0</th>\n",
       "      <td>65014526</td>\n",
       "      <td>1404.0</td>\n",
       "      <td>146.0</td>\n",
       "      <td>1.332</td>\n",
       "      <td>6.5</td>\n",
       "      <td>False</td>\n",
       "      <td>True</td>\n",
       "    </tr>\n",
       "    <tr>\n",
       "      <th>1</th>\n",
       "      <td>75984746</td>\n",
       "      <td>1195.0</td>\n",
       "      <td>130.0</td>\n",
       "      <td>0.998</td>\n",
       "      <td>5.7</td>\n",
       "      <td>False</td>\n",
       "      <td>True</td>\n",
       "    </tr>\n",
       "    <tr>\n",
       "      <th>2</th>\n",
       "      <td>84269636</td>\n",
       "      <td>1639.0</td>\n",
       "      <td>131.0</td>\n",
       "      <td>1.598</td>\n",
       "      <td>5.8</td>\n",
       "      <td>False</td>\n",
       "      <td>True</td>\n",
       "    </tr>\n",
       "    <tr>\n",
       "      <th>3</th>\n",
       "      <td>76973510</td>\n",
       "      <td>1171.0</td>\n",
       "      <td>127.0</td>\n",
       "      <td>0.999</td>\n",
       "      <td>5.6</td>\n",
       "      <td>False</td>\n",
       "      <td>True</td>\n",
       "    </tr>\n",
       "    <tr>\n",
       "      <th>4</th>\n",
       "      <td>80434056</td>\n",
       "      <td>1432.0</td>\n",
       "      <td>154.0</td>\n",
       "      <td>1.498</td>\n",
       "      <td>6.8</td>\n",
       "      <td>False</td>\n",
       "      <td>True</td>\n",
       "    </tr>\n",
       "    <tr>\n",
       "      <th>...</th>\n",
       "      <td>...</td>\n",
       "      <td>...</td>\n",
       "      <td>...</td>\n",
       "      <td>...</td>\n",
       "      <td>...</td>\n",
       "      <td>...</td>\n",
       "      <td>...</td>\n",
       "    </tr>\n",
       "    <tr>\n",
       "      <th>999995</th>\n",
       "      <td>50122417</td>\n",
       "      <td>1555.0</td>\n",
       "      <td>160.0</td>\n",
       "      <td>1.332</td>\n",
       "      <td>7.1</td>\n",
       "      <td>False</td>\n",
       "      <td>True</td>\n",
       "    </tr>\n",
       "    <tr>\n",
       "      <th>999996</th>\n",
       "      <td>629183</td>\n",
       "      <td>1665.0</td>\n",
       "      <td>132.0</td>\n",
       "      <td>2.487</td>\n",
       "      <td>5.8</td>\n",
       "      <td>False</td>\n",
       "      <td>True</td>\n",
       "    </tr>\n",
       "    <tr>\n",
       "      <th>999997</th>\n",
       "      <td>84952685</td>\n",
       "      <td>1395.0</td>\n",
       "      <td>142.0</td>\n",
       "      <td>0.999</td>\n",
       "      <td>6.3</td>\n",
       "      <td>False</td>\n",
       "      <td>True</td>\n",
       "    </tr>\n",
       "    <tr>\n",
       "      <th>999998</th>\n",
       "      <td>50284190</td>\n",
       "      <td>1263.0</td>\n",
       "      <td>129.0</td>\n",
       "      <td>1.199</td>\n",
       "      <td>5.7</td>\n",
       "      <td>False</td>\n",
       "      <td>True</td>\n",
       "    </tr>\n",
       "    <tr>\n",
       "      <th>999999</th>\n",
       "      <td>80323007</td>\n",
       "      <td>1103.0</td>\n",
       "      <td>124.0</td>\n",
       "      <td>0.999</td>\n",
       "      <td>5.5</td>\n",
       "      <td>False</td>\n",
       "      <td>True</td>\n",
       "    </tr>\n",
       "  </tbody>\n",
       "</table>\n",
       "<p>1000000 rows × 7 columns</p>\n",
       "</div>"
      ],
      "text/plain": [
       "              ID  Mass_(kg)  CO2_emission_(g/km)  Engine_size  \\\n",
       "0       65014526     1404.0                146.0        1.332   \n",
       "1       75984746     1195.0                130.0        0.998   \n",
       "2       84269636     1639.0                131.0        1.598   \n",
       "3       76973510     1171.0                127.0        0.999   \n",
       "4       80434056     1432.0                154.0        1.498   \n",
       "...          ...        ...                  ...          ...   \n",
       "999995  50122417     1555.0                160.0        1.332   \n",
       "999996    629183     1665.0                132.0        2.487   \n",
       "999997  84952685     1395.0                142.0        0.999   \n",
       "999998  50284190     1263.0                129.0        1.199   \n",
       "999999  80323007     1103.0                124.0        0.999   \n",
       "\n",
       "        Fuel_consumption_(l/100km)  Fuel_type_diesel  Fuel_type_petrol  \n",
       "0                              6.5             False              True  \n",
       "1                              5.7             False              True  \n",
       "2                              5.8             False              True  \n",
       "3                              5.6             False              True  \n",
       "4                              6.8             False              True  \n",
       "...                            ...               ...               ...  \n",
       "999995                         7.1             False              True  \n",
       "999996                         5.8             False              True  \n",
       "999997                         6.3             False              True  \n",
       "999998                         5.7             False              True  \n",
       "999999                         5.5             False              True  \n",
       "\n",
       "[1000000 rows x 7 columns]"
      ]
     },
     "execution_count": 27,
     "metadata": {},
     "output_type": "execute_result"
    }
   ],
   "source": [
    "# Vamos a utilizar menos volumen de datos para poder maniobrar mas facil\n",
    "df_aux = df1.sample(1000000)\n",
    "df_aux.to_csv('df_fit.csv', index=False)\n",
    "print('Tamano del archivo df2:', round((os.path.getsize('df_fit.csv')/1024)/1024, 2), 'MB')\n",
    "\n",
    "df2 = pd.read_csv('df_fit.csv')\n",
    "print(df2.shape)\n",
    "df2"
   ]
  },
  {
   "cell_type": "code",
   "execution_count": null,
   "metadata": {},
   "outputs": [],
   "source": []
  }
 ],
 "metadata": {
  "kernelspec": {
   "display_name": "base",
   "language": "python",
   "name": "python3"
  },
  "language_info": {
   "codemirror_mode": {
    "name": "ipython",
    "version": 3
   },
   "file_extension": ".py",
   "mimetype": "text/x-python",
   "name": "python",
   "nbconvert_exporter": "python",
   "pygments_lexer": "ipython3",
   "version": "3.11.5"
  }
 },
 "nbformat": 4,
 "nbformat_minor": 2
}
