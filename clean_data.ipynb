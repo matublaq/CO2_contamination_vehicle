{
 "cells": [
  {
   "cell_type": "code",
   "execution_count": 1,
   "metadata": {},
   "outputs": [],
   "source": [
    "import os\n",
    "import numpy as np\n",
    "import pandas as pd"
   ]
  },
  {
   "cell_type": "markdown",
   "metadata": {},
   "source": [
    "## <p style='text-align: center; text-decoration: underline; color: #10A0B4;'> Datos oficiales de la **Union Europea** </p>\n",
    "[Origen de los datos](https://www.eea.europa.eu/en/datahub/datahubitem-view/fa8b1229-3db6-495d-b18e-9c9b3267c02b)"
   ]
  },
  {
   "cell_type": "markdown",
   "metadata": {},
   "source": [
    "---"
   ]
  },
  {
   "cell_type": "markdown",
   "metadata": {},
   "source": [
    "## Autos registrados desde **2017** hasta **2023**"
   ]
  },
  {
   "cell_type": "markdown",
   "metadata": {},
   "source": [
    "---"
   ]
  },
  {
   "cell_type": "markdown",
   "metadata": {},
   "source": [
    "# <p style='text-align: center; color: orange;'>Normativa euro 6</p>"
   ]
  },
  {
   "cell_type": "markdown",
   "metadata": {
    "vscode": {
     "languageId": "html"
    }
   },
   "source": [
    "# <p style='text-align: center; text-decoration: underline; color: green;'>Limpiado de datos</p>\n",
    "#### El dataset contiene mas de **14 Gigas** de informacion (69.643.588 filas).\n",
    "\n",
    "El gran tamano del conjunto de datos trae problemas:\n",
    "- No puedo subirlo a GitHub (+100MB). \n",
    "- Lento procesamiento.\n",
    "\n",
    "Vamos a resolver ambas cuentiones achicando el dataset de manera tal que el impacto por usar menos informacion sea minimo"
   ]
  },
  {
   "cell_type": "markdown",
   "metadata": {},
   "source": [
    "---"
   ]
  },
  {
   "cell_type": "code",
   "execution_count": 2,
   "metadata": {},
   "outputs": [
    {
     "name": "stdout",
     "output_type": "stream",
     "text": [
      "El archivo pesa 14.07 Gigas\n"
     ]
    }
   ],
   "source": [
    "weight_file_GB = ((os.path.getsize('ignore_data.csv')/1024)/1024)/1024\n",
    "print('El archivo pesa', round(weight_file_GB, 2), 'Gigas')"
   ]
  },
  {
   "cell_type": "code",
   "execution_count": 3,
   "metadata": {},
   "outputs": [
    {
     "name": "stdout",
     "output_type": "stream",
     "text": [
      "Columnas del data frame crudo: \n",
      " Index(['ID', 'Country', 'VFN', 'Mp', 'Mh', 'Man', 'MMS', 'Tan', 'T', 'Va',\n",
      "       'Ve', 'Mk', 'Cn', 'Ct', 'Cr', 'r', 'm (kg)', 'Mt', 'Enedc (g/km)',\n",
      "       'Ewltp (g/km)', 'W (mm)', 'At1 (mm)', 'At2 (mm)', 'Ft', 'Fm',\n",
      "       'ec (cm3)', 'ep (KW)', 'z (Wh/km)', 'IT', 'Ernedc (g/km)',\n",
      "       'Erwltp (g/km)', 'De', 'Vf', 'Status', 'year', 'Date of registration',\n",
      "       'Fuel consumption ', 'ech', 'RLFI', 'Electric range (km)'],\n",
      "      dtype='object')\n",
      "\n",
      "\n",
      "Columnas que nos sirven para el proyecto: \n",
      " Index(['ID', 'm (kg)', 'Ewltp (g/km)', 'Ft', 'ec (cm3)', 'Fuel consumption '], dtype='object')\n"
     ]
    }
   ],
   "source": [
    "# Obtenemos las columnas del Data Frame\n",
    "df_columns = pd.read_csv('ignore_data.csv', nrows=0)\n",
    "print('Columnas del data frame crudo: \\n', df_columns.columns)\n",
    "\n",
    "# Cargamos unicamente las que nos interesan\n",
    "df_columns.drop(columns=['year', 'Country', 'Date of registration', 'Enedc (g/km)', 'r', 'VFN', 'Mp', 'Man', 'Tan', 'T', 'Va', 'Ve', 'MMS', 'Ct', 'Cr', 'Mt', 'W (mm)', 'At1 (mm)', 'At2 (mm)', 'Fm', 'IT', 'Ernedc (g/km)', 'Erwltp (g/km)', 'De','Vf', 'Status', 'ech', 'RLFI', 'Mh', 'z (Wh/km)', 'ep (KW)', 'Mk', 'Cn', 'Electric range (km)'], inplace=True)\n",
    "columns_to_load = ['ID', 'm (kg)', 'Ewltp (g/km)', 'Ft', 'ec (cm3)', 'Fuel consumption ']\n",
    "\n",
    "# Separamos la informacion en fragmentos de 1 millon para que la computadora no se sobresature\n",
    "df_crud = pd.read_csv('ignore_data.csv', chunksize=1000000, usecols=columns_to_load)\n",
    "\n",
    "print('\\n\\nColumnas que nos sirven para el proyecto: \\n', df_columns.columns)"
   ]
  },
  {
   "cell_type": "code",
   "execution_count": 4,
   "metadata": {},
   "outputs": [
    {
     "name": "stderr",
     "output_type": "stream",
     "text": [
      "C:\\Users\\matia\\AppData\\Local\\Temp\\ipykernel_13336\\1486211447.py:13: FutureWarning: The behavior of DataFrame concatenation with empty or all-NA entries is deprecated. In a future version, this will no longer exclude empty or all-NA columns when determining the result dtypes. To retain the old behavior, exclude the relevant entries before the concat operation.\n",
      "  df = pd.concat([df, chunk], ignore_index=True)\n"
     ]
    },
    {
     "name": "stdout",
     "output_type": "stream",
     "text": [
      "(15023885, 6)\n"
     ]
    }
   ],
   "source": [
    "# Creamos el dataframe que utilisaremos\n",
    "df = pd.DataFrame(columns=df_columns.columns)\n",
    "\n",
    "# Cambiamos de nombre algunas columnas\n",
    "rename_columns = {'m (kg)': 'Mass_(kg)', 'Ewltp (g/km)': 'CO2_emission_(g/km)', 'Ft': 'Fuel_type', 'ec (cm3)': 'Engine_size_cm3', 'Fuel consumption ': 'Fuel_consumption_(l/100km)'}\n",
    "df.rename(columns=rename_columns, inplace=True)\n",
    "\n",
    "for chunk in df_crud:\n",
    "\n",
    "    chunk.rename(columns=rename_columns, inplace=True)    \n",
    "    chunk = chunk.dropna()\n",
    "    \n",
    "    df = pd.concat([df, chunk], ignore_index=True)\n",
    "    \n",
    "print(df.shape)\n",
    "\n",
    "# Lo guardo en un archivo aparte para evitar volver a ejecutar esta celda\n",
    "df.to_csv('ignore_df_data_clean.csv', index=False)"
   ]
  },
  {
   "cell_type": "markdown",
   "metadata": {},
   "source": [
    "---\n",
    "---\n",
    "---"
   ]
  },
  {
   "cell_type": "markdown",
   "metadata": {},
   "source": [
    "### Limpiando los datos"
   ]
  },
  {
   "cell_type": "code",
   "execution_count": 5,
   "metadata": {},
   "outputs": [
    {
     "name": "stdout",
     "output_type": "stream",
     "text": [
      "Tamano del archivo df1: 591.11 MB\n"
     ]
    },
    {
     "data": {
      "text/plain": [
       "(15023885, 6)"
      ]
     },
     "execution_count": 5,
     "metadata": {},
     "output_type": "execute_result"
    }
   ],
   "source": [
    "df1 = pd.read_csv('ignore_df_data_clean.csv')\n",
    "print('Tamano del archivo df1:', (round((os.path.getsize('ignore_df_data_clean.csv')/1024)/1024, 2)), 'MB')\n",
    "df1.shape"
   ]
  },
  {
   "cell_type": "code",
   "execution_count": 6,
   "metadata": {},
   "outputs": [
    {
     "name": "stdout",
     "output_type": "stream",
     "text": [
      "Fuel_type\n",
      "petrol             5101007\n",
      "PETROL             4334156\n",
      "DIESEL             1891905\n",
      "diesel             1815946\n",
      "petrol/electric     828111\n",
      "PETROL/ELECTRIC     451775\n",
      "lpg                 237865\n",
      "LPG                 164343\n",
      "DIESEL/ELECTRIC      55721\n",
      "diesel/electric      41836\n",
      "e85                  38871\n",
      "NG                   34385\n",
      "ng                   17583\n",
      "E85                   5969\n",
      "NG-BIOMETHANE         4408\n",
      "unknown                  2\n",
      "UNKNOWN                  1\n",
      "ELECTRIC                 1\n",
      "Name: count, dtype: int64\n",
      "PETROL 6\n",
      "PETROL/ELECTRIC 15\n",
      "DIESEL 6\n",
      "LPG 3\n",
      "NG-BIOMETHANE 13\n",
      "DIESEL/ELECTRIC 15\n",
      "NG 2\n",
      "E85 3\n",
      "UNKNOWN 7\n",
      "ELECTRIC 8\n",
      "petrol 6\n",
      "diesel 6\n",
      "lpg 3\n",
      "petrol/electric 15\n",
      "diesel/electric 15\n",
      "ng 2\n",
      "e85 3\n",
      "unknown 7\n"
     ]
    }
   ],
   "source": [
    "#Tipos de combustibles\n",
    "print(df1['Fuel_type'].value_counts())\n",
    "\n",
    "for fuel_type in df1['Fuel_type'].unique():\n",
    "    print(fuel_type, len(fuel_type))"
   ]
  },
  {
   "cell_type": "code",
   "execution_count": 7,
   "metadata": {},
   "outputs": [
    {
     "name": "stderr",
     "output_type": "stream",
     "text": [
      "C:\\Users\\matia\\AppData\\Local\\Temp\\ipykernel_13336\\3229457277.py:9: FutureWarning: DataFrame.applymap has been deprecated. Use DataFrame.map instead.\n",
      "  df1 = df1[~df1.applymap(lambda x: follow_words(x, word_to_delete)).any(axis=1)]\n"
     ]
    },
    {
     "data": {
      "text/plain": [
       "Fuel_type\n",
       "petrol             9435163\n",
       "diesel             3707851\n",
       "petrol/electric    1279886\n",
       "lpg                 402208\n",
       "diesel/electric      97557\n",
       "ng                   51968\n",
       "e85                  44840\n",
       "ng-biomethane         4408\n",
       "electric                 1\n",
       "Name: count, dtype: int64"
      ]
     },
     "execution_count": 7,
     "metadata": {},
     "output_type": "execute_result"
    }
   ],
   "source": [
    "#Todo en minuscula y sin espacios\n",
    "df1['Fuel_type'] = df1['Fuel_type'].str.lower().replace(' ', '').apply(lambda x: x.strip())\n",
    "\n",
    "#Eliminamos los que no se sabe su combustible\n",
    "word_to_delete = ['unknown']\n",
    "def follow_words(text, words):\n",
    "    return any(word in str(text) for word in words)\n",
    "\n",
    "df1 = df1[~df1.applymap(lambda x: follow_words(x, word_to_delete)).any(axis=1)]\n",
    "\n",
    "df1['Fuel_type'].value_counts()"
   ]
  },
  {
   "cell_type": "markdown",
   "metadata": {},
   "source": [
    "### +85% de los vehiculos usa nafta o diesel\n",
    "Unicamente vamos a utilizar los que usan nafta y diesel"
   ]
  },
  {
   "cell_type": "code",
   "execution_count": 8,
   "metadata": {},
   "outputs": [
    {
     "name": "stdout",
     "output_type": "stream",
     "text": [
      "{('petrol',): 9435163, ('diesel',): 3707851, ('petrol/electric',): 1279886, ('lpg',): 402208, ('diesel/electric',): 97557, ('ng',): 51968, ('e85',): 44840, ('ng-biomethane',): 4408, ('electric',): 1}\n",
      "{'petrol': 9435163, 'diesel': 3707851, 'petrol/electric': 1279886, 'lpg': 402208, 'diesel/electric': 97557, 'ng': 51968, 'e85': 44840, 'ng-biomethane': 4408, 'electric': 1}\n",
      "\n",
      " {'petrol': 62.8, 'diesel': 24.68, 'petrol/electric': 8.52, 'lpg': 2.68, 'diesel/electric': 0.65, 'ng': 0.35, 'e85': 0.3, 'ng-biomethane': 0.03, 'electric': 0.0}\n"
     ]
    },
    {
     "data": {
      "text/plain": [
       "Fuel_type\n",
       "petrol       9435163\n",
       "diesel       3707851\n",
       "Name: count, dtype: int64"
      ]
     },
     "execution_count": 8,
     "metadata": {},
     "output_type": "execute_result"
    }
   ],
   "source": [
    "fuel_type_count = dict(df1[['Fuel_type']].value_counts())\n",
    "print(fuel_type_count)\n",
    "\n",
    "fuel_type_count = {str(key[0]): value for key, value in fuel_type_count.items()}\n",
    "print(fuel_type_count)\n",
    "\n",
    "fuel_type_count = {key: round((value/df1.shape[0])*100, 2) for key, value in fuel_type_count.items()}\n",
    "print('\\n', fuel_type_count)\n",
    "\n",
    "#Porcentaje de uso de cada combustible\n",
    "df1 = df1[df1['Fuel_type'].isin(['petrol', 'diesel'])]\n",
    "df1[['Fuel_type']].value_counts()"
   ]
  },
  {
   "cell_type": "code",
   "execution_count": 9,
   "metadata": {},
   "outputs": [
    {
     "data": {
      "text/html": [
       "<div>\n",
       "<style scoped>\n",
       "    .dataframe tbody tr th:only-of-type {\n",
       "        vertical-align: middle;\n",
       "    }\n",
       "\n",
       "    .dataframe tbody tr th {\n",
       "        vertical-align: top;\n",
       "    }\n",
       "\n",
       "    .dataframe thead th {\n",
       "        text-align: right;\n",
       "    }\n",
       "</style>\n",
       "<table border=\"1\" class=\"dataframe\">\n",
       "  <thead>\n",
       "    <tr style=\"text-align: right;\">\n",
       "      <th></th>\n",
       "      <th>ID</th>\n",
       "      <th>Mass_(kg)</th>\n",
       "      <th>CO2_emission_(g/km)</th>\n",
       "      <th>Fuel_type</th>\n",
       "      <th>Engine_size</th>\n",
       "      <th>Fuel_consumption_(l/100km)</th>\n",
       "    </tr>\n",
       "  </thead>\n",
       "  <tbody>\n",
       "    <tr>\n",
       "      <th>0</th>\n",
       "      <td>56003309</td>\n",
       "      <td>1710.0</td>\n",
       "      <td>128.0</td>\n",
       "      <td>petrol</td>\n",
       "      <td>2.487</td>\n",
       "      <td>5.7</td>\n",
       "    </tr>\n",
       "    <tr>\n",
       "      <th>1</th>\n",
       "      <td>56003313</td>\n",
       "      <td>1710.0</td>\n",
       "      <td>128.0</td>\n",
       "      <td>petrol</td>\n",
       "      <td>2.487</td>\n",
       "      <td>5.7</td>\n",
       "    </tr>\n",
       "    <tr>\n",
       "      <th>2</th>\n",
       "      <td>56003314</td>\n",
       "      <td>1710.0</td>\n",
       "      <td>128.0</td>\n",
       "      <td>petrol</td>\n",
       "      <td>2.487</td>\n",
       "      <td>5.7</td>\n",
       "    </tr>\n",
       "    <tr>\n",
       "      <th>3</th>\n",
       "      <td>56003351</td>\n",
       "      <td>1635.0</td>\n",
       "      <td>160.0</td>\n",
       "      <td>petrol</td>\n",
       "      <td>1.987</td>\n",
       "      <td>7.1</td>\n",
       "    </tr>\n",
       "    <tr>\n",
       "      <th>4</th>\n",
       "      <td>56003352</td>\n",
       "      <td>1635.0</td>\n",
       "      <td>160.0</td>\n",
       "      <td>petrol</td>\n",
       "      <td>1.987</td>\n",
       "      <td>7.1</td>\n",
       "    </tr>\n",
       "    <tr>\n",
       "      <th>...</th>\n",
       "      <td>...</td>\n",
       "      <td>...</td>\n",
       "      <td>...</td>\n",
       "      <td>...</td>\n",
       "      <td>...</td>\n",
       "      <td>...</td>\n",
       "    </tr>\n",
       "    <tr>\n",
       "      <th>15023880</th>\n",
       "      <td>86000221</td>\n",
       "      <td>985.0</td>\n",
       "      <td>125.0</td>\n",
       "      <td>petrol</td>\n",
       "      <td>1.193</td>\n",
       "      <td>5.5</td>\n",
       "    </tr>\n",
       "    <tr>\n",
       "      <th>15023881</th>\n",
       "      <td>86000222</td>\n",
       "      <td>985.0</td>\n",
       "      <td>125.0</td>\n",
       "      <td>petrol</td>\n",
       "      <td>1.193</td>\n",
       "      <td>5.5</td>\n",
       "    </tr>\n",
       "    <tr>\n",
       "      <th>15023882</th>\n",
       "      <td>86000223</td>\n",
       "      <td>985.0</td>\n",
       "      <td>125.0</td>\n",
       "      <td>petrol</td>\n",
       "      <td>1.193</td>\n",
       "      <td>5.5</td>\n",
       "    </tr>\n",
       "    <tr>\n",
       "      <th>15023883</th>\n",
       "      <td>86000224</td>\n",
       "      <td>985.0</td>\n",
       "      <td>125.0</td>\n",
       "      <td>petrol</td>\n",
       "      <td>1.193</td>\n",
       "      <td>5.5</td>\n",
       "    </tr>\n",
       "    <tr>\n",
       "      <th>15023884</th>\n",
       "      <td>86000225</td>\n",
       "      <td>985.0</td>\n",
       "      <td>125.0</td>\n",
       "      <td>petrol</td>\n",
       "      <td>1.193</td>\n",
       "      <td>5.5</td>\n",
       "    </tr>\n",
       "  </tbody>\n",
       "</table>\n",
       "<p>13143014 rows × 6 columns</p>\n",
       "</div>"
      ],
      "text/plain": [
       "                ID  Mass_(kg)  CO2_emission_(g/km) Fuel_type  Engine_size  \\\n",
       "0         56003309     1710.0                128.0    petrol        2.487   \n",
       "1         56003313     1710.0                128.0    petrol        2.487   \n",
       "2         56003314     1710.0                128.0    petrol        2.487   \n",
       "3         56003351     1635.0                160.0    petrol        1.987   \n",
       "4         56003352     1635.0                160.0    petrol        1.987   \n",
       "...            ...        ...                  ...       ...          ...   \n",
       "15023880  86000221      985.0                125.0    petrol        1.193   \n",
       "15023881  86000222      985.0                125.0    petrol        1.193   \n",
       "15023882  86000223      985.0                125.0    petrol        1.193   \n",
       "15023883  86000224      985.0                125.0    petrol        1.193   \n",
       "15023884  86000225      985.0                125.0    petrol        1.193   \n",
       "\n",
       "          Fuel_consumption_(l/100km)  \n",
       "0                                5.7  \n",
       "1                                5.7  \n",
       "2                                5.7  \n",
       "3                                7.1  \n",
       "4                                7.1  \n",
       "...                              ...  \n",
       "15023880                         5.5  \n",
       "15023881                         5.5  \n",
       "15023882                         5.5  \n",
       "15023883                         5.5  \n",
       "15023884                         5.5  \n",
       "\n",
       "[13143014 rows x 6 columns]"
      ]
     },
     "execution_count": 9,
     "metadata": {},
     "output_type": "execute_result"
    }
   ],
   "source": [
    "#Cambiamos las unidades\n",
    "df1['Engine_size_cm3'] = df1['Engine_size_cm3']/1000\n",
    "df1.rename(columns={'Engine_size_cm3': 'Engine_size'}, inplace=True)\n",
    "\n",
    "df1.to_csv('ignore_df_data_clean.csv')\n",
    "\n",
    "df1"
   ]
  },
  {
   "cell_type": "code",
   "execution_count": 10,
   "metadata": {},
   "outputs": [
    {
     "name": "stderr",
     "output_type": "stream",
     "text": [
      "C:\\Users\\matia\\AppData\\Local\\Temp\\ipykernel_13336\\899938115.py:2: UserWarning: Boolean Series key will be reindexed to match DataFrame index.\n",
      "  df1 = df1[df['Fuel_consumption_(l/100km)'] > 5.4]\n",
      "C:\\Users\\matia\\AppData\\Local\\Temp\\ipykernel_13336\\899938115.py:5: UserWarning: Boolean Series key will be reindexed to match DataFrame index.\n",
      "  df1 = df1[(df1['Mass_(kg)'] >= 900) & (df['Mass_(kg)'] <= 3000)]\n"
     ]
    },
    {
     "data": {
      "text/html": [
       "<div>\n",
       "<style scoped>\n",
       "    .dataframe tbody tr th:only-of-type {\n",
       "        vertical-align: middle;\n",
       "    }\n",
       "\n",
       "    .dataframe tbody tr th {\n",
       "        vertical-align: top;\n",
       "    }\n",
       "\n",
       "    .dataframe thead th {\n",
       "        text-align: right;\n",
       "    }\n",
       "</style>\n",
       "<table border=\"1\" class=\"dataframe\">\n",
       "  <thead>\n",
       "    <tr style=\"text-align: right;\">\n",
       "      <th></th>\n",
       "      <th>ID</th>\n",
       "      <th>Mass_(kg)</th>\n",
       "      <th>CO2_emission_(g/km)</th>\n",
       "      <th>Fuel_type</th>\n",
       "      <th>Engine_size</th>\n",
       "      <th>Fuel_consumption_(l/100km)</th>\n",
       "    </tr>\n",
       "  </thead>\n",
       "  <tbody>\n",
       "    <tr>\n",
       "      <th>0</th>\n",
       "      <td>56003309</td>\n",
       "      <td>1710.0</td>\n",
       "      <td>128.0</td>\n",
       "      <td>petrol</td>\n",
       "      <td>2.487</td>\n",
       "      <td>5.7</td>\n",
       "    </tr>\n",
       "    <tr>\n",
       "      <th>1</th>\n",
       "      <td>56003313</td>\n",
       "      <td>1710.0</td>\n",
       "      <td>128.0</td>\n",
       "      <td>petrol</td>\n",
       "      <td>2.487</td>\n",
       "      <td>5.7</td>\n",
       "    </tr>\n",
       "    <tr>\n",
       "      <th>2</th>\n",
       "      <td>56003314</td>\n",
       "      <td>1710.0</td>\n",
       "      <td>128.0</td>\n",
       "      <td>petrol</td>\n",
       "      <td>2.487</td>\n",
       "      <td>5.7</td>\n",
       "    </tr>\n",
       "    <tr>\n",
       "      <th>3</th>\n",
       "      <td>56003351</td>\n",
       "      <td>1635.0</td>\n",
       "      <td>160.0</td>\n",
       "      <td>petrol</td>\n",
       "      <td>1.987</td>\n",
       "      <td>7.1</td>\n",
       "    </tr>\n",
       "    <tr>\n",
       "      <th>4</th>\n",
       "      <td>56003352</td>\n",
       "      <td>1635.0</td>\n",
       "      <td>160.0</td>\n",
       "      <td>petrol</td>\n",
       "      <td>1.987</td>\n",
       "      <td>7.1</td>\n",
       "    </tr>\n",
       "    <tr>\n",
       "      <th>...</th>\n",
       "      <td>...</td>\n",
       "      <td>...</td>\n",
       "      <td>...</td>\n",
       "      <td>...</td>\n",
       "      <td>...</td>\n",
       "      <td>...</td>\n",
       "    </tr>\n",
       "    <tr>\n",
       "      <th>15023880</th>\n",
       "      <td>86000221</td>\n",
       "      <td>985.0</td>\n",
       "      <td>125.0</td>\n",
       "      <td>petrol</td>\n",
       "      <td>1.193</td>\n",
       "      <td>5.5</td>\n",
       "    </tr>\n",
       "    <tr>\n",
       "      <th>15023881</th>\n",
       "      <td>86000222</td>\n",
       "      <td>985.0</td>\n",
       "      <td>125.0</td>\n",
       "      <td>petrol</td>\n",
       "      <td>1.193</td>\n",
       "      <td>5.5</td>\n",
       "    </tr>\n",
       "    <tr>\n",
       "      <th>15023882</th>\n",
       "      <td>86000223</td>\n",
       "      <td>985.0</td>\n",
       "      <td>125.0</td>\n",
       "      <td>petrol</td>\n",
       "      <td>1.193</td>\n",
       "      <td>5.5</td>\n",
       "    </tr>\n",
       "    <tr>\n",
       "      <th>15023883</th>\n",
       "      <td>86000224</td>\n",
       "      <td>985.0</td>\n",
       "      <td>125.0</td>\n",
       "      <td>petrol</td>\n",
       "      <td>1.193</td>\n",
       "      <td>5.5</td>\n",
       "    </tr>\n",
       "    <tr>\n",
       "      <th>15023884</th>\n",
       "      <td>86000225</td>\n",
       "      <td>985.0</td>\n",
       "      <td>125.0</td>\n",
       "      <td>petrol</td>\n",
       "      <td>1.193</td>\n",
       "      <td>5.5</td>\n",
       "    </tr>\n",
       "  </tbody>\n",
       "</table>\n",
       "<p>6711189 rows × 6 columns</p>\n",
       "</div>"
      ],
      "text/plain": [
       "                ID  Mass_(kg)  CO2_emission_(g/km) Fuel_type  Engine_size  \\\n",
       "0         56003309     1710.0                128.0    petrol        2.487   \n",
       "1         56003313     1710.0                128.0    petrol        2.487   \n",
       "2         56003314     1710.0                128.0    petrol        2.487   \n",
       "3         56003351     1635.0                160.0    petrol        1.987   \n",
       "4         56003352     1635.0                160.0    petrol        1.987   \n",
       "...            ...        ...                  ...       ...          ...   \n",
       "15023880  86000221      985.0                125.0    petrol        1.193   \n",
       "15023881  86000222      985.0                125.0    petrol        1.193   \n",
       "15023882  86000223      985.0                125.0    petrol        1.193   \n",
       "15023883  86000224      985.0                125.0    petrol        1.193   \n",
       "15023884  86000225      985.0                125.0    petrol        1.193   \n",
       "\n",
       "          Fuel_consumption_(l/100km)  \n",
       "0                                5.7  \n",
       "1                                5.7  \n",
       "2                                5.7  \n",
       "3                                7.1  \n",
       "4                                7.1  \n",
       "...                              ...  \n",
       "15023880                         5.5  \n",
       "15023881                         5.5  \n",
       "15023882                         5.5  \n",
       "15023883                         5.5  \n",
       "15023884                         5.5  \n",
       "\n",
       "[6711189 rows x 6 columns]"
      ]
     },
     "execution_count": 10,
     "metadata": {},
     "output_type": "execute_result"
    }
   ],
   "source": [
    "#El auto que menos combustible consume es de 5.4 l/100km. Si hay autos que consumen menos es porque estan mal catalogados y son hibridos.\n",
    "df1 = df1[df['Fuel_consumption_(l/100km)'] > 5.4]\n",
    "\n",
    "#Los vehiculos mas livianos del mercado rondan los 900 kilos, y a su vez los mas pesados rondan los 3000 kilos\n",
    "df1 = df1[(df1['Mass_(kg)'] >= 900) & (df['Mass_(kg)'] <= 3000)]\n",
    "\n",
    "df1"
   ]
  },
  {
   "cell_type": "markdown",
   "metadata": {},
   "source": [
    "---"
   ]
  },
  {
   "cell_type": "markdown",
   "metadata": {},
   "source": [
    "### <p style='color: green; text-align: center;'>Vamos a utilizar 1 millon de filas para que el archivo pese menos de 100 megas y poder subirlo a GitHub</p>"
   ]
  },
  {
   "cell_type": "code",
   "execution_count": 11,
   "metadata": {},
   "outputs": [
    {
     "name": "stdout",
     "output_type": "stream",
     "text": [
      "Tamano del archivo df2: 95.05 MB\n",
      "(2500000, 6)\n"
     ]
    },
    {
     "data": {
      "text/html": [
       "<div>\n",
       "<style scoped>\n",
       "    .dataframe tbody tr th:only-of-type {\n",
       "        vertical-align: middle;\n",
       "    }\n",
       "\n",
       "    .dataframe tbody tr th {\n",
       "        vertical-align: top;\n",
       "    }\n",
       "\n",
       "    .dataframe thead th {\n",
       "        text-align: right;\n",
       "    }\n",
       "</style>\n",
       "<table border=\"1\" class=\"dataframe\">\n",
       "  <thead>\n",
       "    <tr style=\"text-align: right;\">\n",
       "      <th></th>\n",
       "      <th>ID</th>\n",
       "      <th>Mass_(kg)</th>\n",
       "      <th>CO2_emission_(g/km)</th>\n",
       "      <th>Fuel_type</th>\n",
       "      <th>Engine_size</th>\n",
       "      <th>Fuel_consumption_(l/100km)</th>\n",
       "    </tr>\n",
       "  </thead>\n",
       "  <tbody>\n",
       "    <tr>\n",
       "      <th>0</th>\n",
       "      <td>81051628</td>\n",
       "      <td>1880.0</td>\n",
       "      <td>165.0</td>\n",
       "      <td>diesel</td>\n",
       "      <td>1.968</td>\n",
       "      <td>6.3</td>\n",
       "    </tr>\n",
       "    <tr>\n",
       "      <th>1</th>\n",
       "      <td>75951987</td>\n",
       "      <td>1505.0</td>\n",
       "      <td>150.0</td>\n",
       "      <td>petrol</td>\n",
       "      <td>1.499</td>\n",
       "      <td>6.6</td>\n",
       "    </tr>\n",
       "    <tr>\n",
       "      <th>2</th>\n",
       "      <td>80674470</td>\n",
       "      <td>1461.0</td>\n",
       "      <td>144.0</td>\n",
       "      <td>petrol</td>\n",
       "      <td>1.199</td>\n",
       "      <td>6.4</td>\n",
       "    </tr>\n",
       "    <tr>\n",
       "      <th>3</th>\n",
       "      <td>50499549</td>\n",
       "      <td>1380.0</td>\n",
       "      <td>138.0</td>\n",
       "      <td>petrol</td>\n",
       "      <td>1.498</td>\n",
       "      <td>6.1</td>\n",
       "    </tr>\n",
       "    <tr>\n",
       "      <th>4</th>\n",
       "      <td>75923176</td>\n",
       "      <td>1197.0</td>\n",
       "      <td>140.0</td>\n",
       "      <td>petrol</td>\n",
       "      <td>0.999</td>\n",
       "      <td>6.2</td>\n",
       "    </tr>\n",
       "    <tr>\n",
       "      <th>...</th>\n",
       "      <td>...</td>\n",
       "      <td>...</td>\n",
       "      <td>...</td>\n",
       "      <td>...</td>\n",
       "      <td>...</td>\n",
       "      <td>...</td>\n",
       "    </tr>\n",
       "    <tr>\n",
       "      <th>2499995</th>\n",
       "      <td>797149</td>\n",
       "      <td>1405.0</td>\n",
       "      <td>141.0</td>\n",
       "      <td>petrol</td>\n",
       "      <td>1.332</td>\n",
       "      <td>6.2</td>\n",
       "    </tr>\n",
       "    <tr>\n",
       "      <th>2499996</th>\n",
       "      <td>52092386</td>\n",
       "      <td>1369.0</td>\n",
       "      <td>129.0</td>\n",
       "      <td>petrol</td>\n",
       "      <td>0.999</td>\n",
       "      <td>5.7</td>\n",
       "    </tr>\n",
       "    <tr>\n",
       "      <th>2499997</th>\n",
       "      <td>52290312</td>\n",
       "      <td>1500.0</td>\n",
       "      <td>152.0</td>\n",
       "      <td>petrol</td>\n",
       "      <td>1.598</td>\n",
       "      <td>6.7</td>\n",
       "    </tr>\n",
       "    <tr>\n",
       "      <th>2499998</th>\n",
       "      <td>52441240</td>\n",
       "      <td>1270.0</td>\n",
       "      <td>160.0</td>\n",
       "      <td>petrol</td>\n",
       "      <td>1.998</td>\n",
       "      <td>7.1</td>\n",
       "    </tr>\n",
       "    <tr>\n",
       "      <th>2499999</th>\n",
       "      <td>65125366</td>\n",
       "      <td>1500.0</td>\n",
       "      <td>153.0</td>\n",
       "      <td>petrol</td>\n",
       "      <td>1.598</td>\n",
       "      <td>6.7</td>\n",
       "    </tr>\n",
       "  </tbody>\n",
       "</table>\n",
       "<p>2500000 rows × 6 columns</p>\n",
       "</div>"
      ],
      "text/plain": [
       "               ID  Mass_(kg)  CO2_emission_(g/km) Fuel_type  Engine_size  \\\n",
       "0        81051628     1880.0                165.0    diesel        1.968   \n",
       "1        75951987     1505.0                150.0    petrol        1.499   \n",
       "2        80674470     1461.0                144.0    petrol        1.199   \n",
       "3        50499549     1380.0                138.0    petrol        1.498   \n",
       "4        75923176     1197.0                140.0    petrol        0.999   \n",
       "...           ...        ...                  ...       ...          ...   \n",
       "2499995    797149     1405.0                141.0    petrol        1.332   \n",
       "2499996  52092386     1369.0                129.0    petrol        0.999   \n",
       "2499997  52290312     1500.0                152.0    petrol        1.598   \n",
       "2499998  52441240     1270.0                160.0    petrol        1.998   \n",
       "2499999  65125366     1500.0                153.0    petrol        1.598   \n",
       "\n",
       "         Fuel_consumption_(l/100km)  \n",
       "0                               6.3  \n",
       "1                               6.6  \n",
       "2                               6.4  \n",
       "3                               6.1  \n",
       "4                               6.2  \n",
       "...                             ...  \n",
       "2499995                         6.2  \n",
       "2499996                         5.7  \n",
       "2499997                         6.7  \n",
       "2499998                         7.1  \n",
       "2499999                         6.7  \n",
       "\n",
       "[2500000 rows x 6 columns]"
      ]
     },
     "execution_count": 11,
     "metadata": {},
     "output_type": "execute_result"
    }
   ],
   "source": [
    "# Vamos a utilizar menos volumen de datos para poder maniobrar mas facil\n",
    "df_aux = df1.sample(2500000) # 2.5 millon random rows\n",
    "df_aux.to_csv('df_fit.csv', index=False)\n",
    "print('Tamano del archivo df2:', round((os.path.getsize('df_fit.csv')/1024)/1024, 2), 'MB')\n",
    "\n",
    "df2 = pd.read_csv('df_fit.csv')\n",
    "print(df2.shape)\n",
    "df2"
   ]
  },
  {
   "cell_type": "markdown",
   "metadata": {},
   "source": [
    "---"
   ]
  },
  {
   "cell_type": "markdown",
   "metadata": {},
   "source": [
    "#### Convertir el archivo en html\n",
    "<code>jupyter nbconvert --to html clean_data.ipynb</code>"
   ]
  },
  {
   "cell_type": "markdown",
   "metadata": {},
   "source": []
  }
 ],
 "metadata": {
  "kernelspec": {
   "display_name": "base",
   "language": "python",
   "name": "python3"
  },
  "language_info": {
   "codemirror_mode": {
    "name": "ipython",
    "version": 3
   },
   "file_extension": ".py",
   "mimetype": "text/x-python",
   "name": "python",
   "nbconvert_exporter": "python",
   "pygments_lexer": "ipython3",
   "version": "3.12.4"
  }
 },
 "nbformat": 4,
 "nbformat_minor": 2
}
