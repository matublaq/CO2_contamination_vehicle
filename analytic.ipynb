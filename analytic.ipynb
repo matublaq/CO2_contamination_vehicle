{
 "cells": [
  {
   "cell_type": "code",
   "execution_count": 1,
   "metadata": {},
   "outputs": [],
   "source": [
    "import pandas as pd\n",
    "import numpy as np\n",
    "import matplotlib.pyplot as plt\n",
    "import seaborn as sns"
   ]
  },
  {
   "cell_type": "markdown",
   "metadata": {},
   "source": [
    "# <p style='text-align: center; text-decoration: underline; color: purple'>Analytics</p>"
   ]
  },
  {
   "cell_type": "code",
   "execution_count": 2,
   "metadata": {},
   "outputs": [
    {
     "data": {
      "text/html": [
       "<div>\n",
       "<style scoped>\n",
       "    .dataframe tbody tr th:only-of-type {\n",
       "        vertical-align: middle;\n",
       "    }\n",
       "\n",
       "    .dataframe tbody tr th {\n",
       "        vertical-align: top;\n",
       "    }\n",
       "\n",
       "    .dataframe thead th {\n",
       "        text-align: right;\n",
       "    }\n",
       "</style>\n",
       "<table border=\"1\" class=\"dataframe\">\n",
       "  <thead>\n",
       "    <tr style=\"text-align: right;\">\n",
       "      <th></th>\n",
       "      <th>ID</th>\n",
       "      <th>Mass_(kg)</th>\n",
       "      <th>CO2_emission_(g/km)</th>\n",
       "      <th>Fuel_type</th>\n",
       "      <th>Engine_size</th>\n",
       "      <th>Fuel_consumption_(l/100km)</th>\n",
       "    </tr>\n",
       "  </thead>\n",
       "  <tbody>\n",
       "    <tr>\n",
       "      <th>0</th>\n",
       "      <td>85705304</td>\n",
       "      <td>1128.0</td>\n",
       "      <td>125.0</td>\n",
       "      <td>petrol</td>\n",
       "      <td>1.199</td>\n",
       "      <td>5.5</td>\n",
       "    </tr>\n",
       "    <tr>\n",
       "      <th>1</th>\n",
       "      <td>52096030</td>\n",
       "      <td>1315.0</td>\n",
       "      <td>127.0</td>\n",
       "      <td>petrol</td>\n",
       "      <td>0.999</td>\n",
       "      <td>5.6</td>\n",
       "    </tr>\n",
       "    <tr>\n",
       "      <th>2</th>\n",
       "      <td>81371067</td>\n",
       "      <td>1334.0</td>\n",
       "      <td>133.0</td>\n",
       "      <td>petrol</td>\n",
       "      <td>0.999</td>\n",
       "      <td>5.9</td>\n",
       "    </tr>\n",
       "    <tr>\n",
       "      <th>3</th>\n",
       "      <td>56380957</td>\n",
       "      <td>2020.0</td>\n",
       "      <td>169.0</td>\n",
       "      <td>diesel</td>\n",
       "      <td>2.925</td>\n",
       "      <td>6.4</td>\n",
       "    </tr>\n",
       "    <tr>\n",
       "      <th>4</th>\n",
       "      <td>82639177</td>\n",
       "      <td>1190.0</td>\n",
       "      <td>133.0</td>\n",
       "      <td>petrol</td>\n",
       "      <td>1.490</td>\n",
       "      <td>5.9</td>\n",
       "    </tr>\n",
       "  </tbody>\n",
       "</table>\n",
       "</div>"
      ],
      "text/plain": [
       "         ID  Mass_(kg)  CO2_emission_(g/km) Fuel_type  Engine_size  \\\n",
       "0  85705304     1128.0                125.0    petrol        1.199   \n",
       "1  52096030     1315.0                127.0    petrol        0.999   \n",
       "2  81371067     1334.0                133.0    petrol        0.999   \n",
       "3  56380957     2020.0                169.0    diesel        2.925   \n",
       "4  82639177     1190.0                133.0    petrol        1.490   \n",
       "\n",
       "   Fuel_consumption_(l/100km)  \n",
       "0                         5.5  \n",
       "1                         5.6  \n",
       "2                         5.9  \n",
       "3                         6.4  \n",
       "4                         5.9  "
      ]
     },
     "execution_count": 2,
     "metadata": {},
     "output_type": "execute_result"
    }
   ],
   "source": [
    "df = pd.read_csv('df_fit.csv')\n",
    "df.head()"
   ]
  },
  {
   "cell_type": "code",
   "execution_count": 3,
   "metadata": {},
   "outputs": [
    {
     "name": "stdout",
     "output_type": "stream",
     "text": [
      "(1000000, 6)\n"
     ]
    },
    {
     "data": {
      "text/html": [
       "<div>\n",
       "<style scoped>\n",
       "    .dataframe tbody tr th:only-of-type {\n",
       "        vertical-align: middle;\n",
       "    }\n",
       "\n",
       "    .dataframe tbody tr th {\n",
       "        vertical-align: top;\n",
       "    }\n",
       "\n",
       "    .dataframe thead th {\n",
       "        text-align: right;\n",
       "    }\n",
       "</style>\n",
       "<table border=\"1\" class=\"dataframe\">\n",
       "  <thead>\n",
       "    <tr style=\"text-align: right;\">\n",
       "      <th></th>\n",
       "      <th>ID</th>\n",
       "      <th>Mass_(kg)</th>\n",
       "      <th>CO2_emission_(g/km)</th>\n",
       "      <th>Engine_size</th>\n",
       "      <th>Fuel_consumption_(l/100km)</th>\n",
       "    </tr>\n",
       "  </thead>\n",
       "  <tbody>\n",
       "    <tr>\n",
       "      <th>count</th>\n",
       "      <td>1.000000e+06</td>\n",
       "      <td>1000000.000000</td>\n",
       "      <td>1000000.000000</td>\n",
       "      <td>1000000.000000</td>\n",
       "      <td>1000000.000000</td>\n",
       "    </tr>\n",
       "    <tr>\n",
       "      <th>mean</th>\n",
       "      <td>6.424653e+07</td>\n",
       "      <td>1520.241665</td>\n",
       "      <td>153.045243</td>\n",
       "      <td>1.634590</td>\n",
       "      <td>6.515288</td>\n",
       "    </tr>\n",
       "    <tr>\n",
       "      <th>std</th>\n",
       "      <td>2.094799e+07</td>\n",
       "      <td>300.056664</td>\n",
       "      <td>31.018039</td>\n",
       "      <td>0.607219</td>\n",
       "      <td>1.239309</td>\n",
       "    </tr>\n",
       "    <tr>\n",
       "      <th>min</th>\n",
       "      <td>8.000000e+00</td>\n",
       "      <td>658.000000</td>\n",
       "      <td>102.000000</td>\n",
       "      <td>0.875000</td>\n",
       "      <td>5.436000</td>\n",
       "    </tr>\n",
       "    <tr>\n",
       "      <th>25%</th>\n",
       "      <td>5.184526e+07</td>\n",
       "      <td>1295.000000</td>\n",
       "      <td>133.000000</td>\n",
       "      <td>1.199000</td>\n",
       "      <td>5.800000</td>\n",
       "    </tr>\n",
       "    <tr>\n",
       "      <th>50%</th>\n",
       "      <td>7.479176e+07</td>\n",
       "      <td>1441.000000</td>\n",
       "      <td>144.000000</td>\n",
       "      <td>1.498000</td>\n",
       "      <td>6.200000</td>\n",
       "    </tr>\n",
       "    <tr>\n",
       "      <th>75%</th>\n",
       "      <td>8.086995e+07</td>\n",
       "      <td>1680.000000</td>\n",
       "      <td>160.000000</td>\n",
       "      <td>1.984000</td>\n",
       "      <td>6.800000</td>\n",
       "    </tr>\n",
       "    <tr>\n",
       "      <th>max</th>\n",
       "      <td>1.496951e+08</td>\n",
       "      <td>3487.000000</td>\n",
       "      <td>572.000000</td>\n",
       "      <td>7.993000</td>\n",
       "      <td>25.200000</td>\n",
       "    </tr>\n",
       "  </tbody>\n",
       "</table>\n",
       "</div>"
      ],
      "text/plain": [
       "                 ID       Mass_(kg)  CO2_emission_(g/km)     Engine_size  \\\n",
       "count  1.000000e+06  1000000.000000       1000000.000000  1000000.000000   \n",
       "mean   6.424653e+07     1520.241665           153.045243        1.634590   \n",
       "std    2.094799e+07      300.056664            31.018039        0.607219   \n",
       "min    8.000000e+00      658.000000           102.000000        0.875000   \n",
       "25%    5.184526e+07     1295.000000           133.000000        1.199000   \n",
       "50%    7.479176e+07     1441.000000           144.000000        1.498000   \n",
       "75%    8.086995e+07     1680.000000           160.000000        1.984000   \n",
       "max    1.496951e+08     3487.000000           572.000000        7.993000   \n",
       "\n",
       "       Fuel_consumption_(l/100km)  \n",
       "count              1000000.000000  \n",
       "mean                     6.515288  \n",
       "std                      1.239309  \n",
       "min                      5.436000  \n",
       "25%                      5.800000  \n",
       "50%                      6.200000  \n",
       "75%                      6.800000  \n",
       "max                     25.200000  "
      ]
     },
     "execution_count": 3,
     "metadata": {},
     "output_type": "execute_result"
    }
   ],
   "source": [
    "print(df.shape)\n",
    "df.describe()"
   ]
  },
  {
   "cell_type": "code",
   "execution_count": 4,
   "metadata": {},
   "outputs": [
    {
     "data": {
      "image/png": "[encoded data removed]",
      "text/plain": [
       "<Figure size 640x480 with 6 Axes>"
      ]
     },
     "metadata": {},
     "output_type": "display_data"
    }
   ],
   "source": [
    "df.hist()\n",
    "plt.show()"
   ]
  },
  {
   "cell_type": "code",
   "execution_count": 5,
   "metadata": {},
   "outputs": [
    {
     "data": {
      "text/html": [
       "<div>\n",
       "<style scoped>\n",
       "    .dataframe tbody tr th:only-of-type {\n",
       "        vertical-align: middle;\n",
       "    }\n",
       "\n",
       "    .dataframe tbody tr th {\n",
       "        vertical-align: top;\n",
       "    }\n",
       "\n",
       "    .dataframe thead th {\n",
       "        text-align: right;\n",
       "    }\n",
       "</style>\n",
       "<table border=\"1\" class=\"dataframe\">\n",
       "  <thead>\n",
       "    <tr style=\"text-align: right;\">\n",
       "      <th></th>\n",
       "      <th>ID</th>\n",
       "      <th>Mass_(kg)</th>\n",
       "      <th>CO2_emission_(g/km)</th>\n",
       "      <th>Fuel_type</th>\n",
       "      <th>Engine_size</th>\n",
       "      <th>Fuel_consumption_(l/100km)</th>\n",
       "    </tr>\n",
       "  </thead>\n",
       "  <tbody>\n",
       "    <tr>\n",
       "      <th>0</th>\n",
       "      <td>85705304</td>\n",
       "      <td>1128.0</td>\n",
       "      <td>125.0</td>\n",
       "      <td>petrol</td>\n",
       "      <td>1.199</td>\n",
       "      <td>5.5</td>\n",
       "    </tr>\n",
       "    <tr>\n",
       "      <th>1</th>\n",
       "      <td>52096030</td>\n",
       "      <td>1315.0</td>\n",
       "      <td>127.0</td>\n",
       "      <td>petrol</td>\n",
       "      <td>0.999</td>\n",
       "      <td>5.6</td>\n",
       "    </tr>\n",
       "    <tr>\n",
       "      <th>2</th>\n",
       "      <td>81371067</td>\n",
       "      <td>1334.0</td>\n",
       "      <td>133.0</td>\n",
       "      <td>petrol</td>\n",
       "      <td>0.999</td>\n",
       "      <td>5.9</td>\n",
       "    </tr>\n",
       "    <tr>\n",
       "      <th>3</th>\n",
       "      <td>56380957</td>\n",
       "      <td>2020.0</td>\n",
       "      <td>169.0</td>\n",
       "      <td>diesel</td>\n",
       "      <td>2.925</td>\n",
       "      <td>6.4</td>\n",
       "    </tr>\n",
       "    <tr>\n",
       "      <th>4</th>\n",
       "      <td>82639177</td>\n",
       "      <td>1190.0</td>\n",
       "      <td>133.0</td>\n",
       "      <td>petrol</td>\n",
       "      <td>1.490</td>\n",
       "      <td>5.9</td>\n",
       "    </tr>\n",
       "  </tbody>\n",
       "</table>\n",
       "</div>"
      ],
      "text/plain": [
       "         ID  Mass_(kg)  CO2_emission_(g/km) Fuel_type  Engine_size  \\\n",
       "0  85705304     1128.0                125.0    petrol        1.199   \n",
       "1  52096030     1315.0                127.0    petrol        0.999   \n",
       "2  81371067     1334.0                133.0    petrol        0.999   \n",
       "3  56380957     2020.0                169.0    diesel        2.925   \n",
       "4  82639177     1190.0                133.0    petrol        1.490   \n",
       "\n",
       "   Fuel_consumption_(l/100km)  \n",
       "0                         5.5  \n",
       "1                         5.6  \n",
       "2                         5.9  \n",
       "3                         6.4  \n",
       "4                         5.9  "
      ]
     },
     "execution_count": 5,
     "metadata": {},
     "output_type": "execute_result"
    }
   ],
   "source": [
    "df1 = df[(df['Mass_(kg)'] >= 900) & (df['Mass_(kg)'] <= 3000)]\n",
    "df1.head()"
   ]
  },
  {
   "cell_type": "code",
   "execution_count": 6,
   "metadata": {},
   "outputs": [
    {
     "data": {
      "image/png": "[encoded data removed]",
      "text/plain": [
       "<Figure size 640x480 with 1 Axes>"
      ]
     },
     "metadata": {},
     "output_type": "display_data"
    }
   ],
   "source": [
    "plt.scatter(df['Fuel_consumption_(l/100km)'], df['CO2_emission_(g/km)'], color='blue')\n",
    "plt.xlabel('Fuel consumption')\n",
    "plt.ylabel('CO2 emission')\n",
    "plt.show()"
   ]
  },
  {
   "cell_type": "code",
   "execution_count": 7,
   "metadata": {},
   "outputs": [
    {
     "data": {
      "text/html": [
       "<div>\n",
       "<style scoped>\n",
       "    .dataframe tbody tr th:only-of-type {\n",
       "        vertical-align: middle;\n",
       "    }\n",
       "\n",
       "    .dataframe tbody tr th {\n",
       "        vertical-align: top;\n",
       "    }\n",
       "\n",
       "    .dataframe thead th {\n",
       "        text-align: right;\n",
       "    }\n",
       "</style>\n",
       "<table border=\"1\" class=\"dataframe\">\n",
       "  <thead>\n",
       "    <tr style=\"text-align: right;\">\n",
       "      <th></th>\n",
       "      <th>ID</th>\n",
       "      <th>Mass_(kg)</th>\n",
       "      <th>CO2_emission_(g/km)</th>\n",
       "      <th>Fuel_type</th>\n",
       "      <th>Engine_size</th>\n",
       "      <th>Fuel_consumption_(l/100km)</th>\n",
       "    </tr>\n",
       "  </thead>\n",
       "  <tbody>\n",
       "    <tr>\n",
       "      <th>809365</th>\n",
       "      <td>496212</td>\n",
       "      <td>1300.0</td>\n",
       "      <td>102.0</td>\n",
       "      <td>petrol</td>\n",
       "      <td>1.498</td>\n",
       "      <td>5.8</td>\n",
       "    </tr>\n",
       "    <tr>\n",
       "      <th>824486</th>\n",
       "      <td>151913</td>\n",
       "      <td>1300.0</td>\n",
       "      <td>102.0</td>\n",
       "      <td>petrol</td>\n",
       "      <td>1.498</td>\n",
       "      <td>5.8</td>\n",
       "    </tr>\n",
       "    <tr>\n",
       "      <th>249591</th>\n",
       "      <td>655499</td>\n",
       "      <td>1300.0</td>\n",
       "      <td>102.0</td>\n",
       "      <td>petrol</td>\n",
       "      <td>1.498</td>\n",
       "      <td>5.8</td>\n",
       "    </tr>\n",
       "    <tr>\n",
       "      <th>544920</th>\n",
       "      <td>91416</td>\n",
       "      <td>1300.0</td>\n",
       "      <td>102.0</td>\n",
       "      <td>petrol</td>\n",
       "      <td>1.498</td>\n",
       "      <td>5.8</td>\n",
       "    </tr>\n",
       "    <tr>\n",
       "      <th>626140</th>\n",
       "      <td>743789</td>\n",
       "      <td>1300.0</td>\n",
       "      <td>102.0</td>\n",
       "      <td>petrol</td>\n",
       "      <td>1.498</td>\n",
       "      <td>5.8</td>\n",
       "    </tr>\n",
       "    <tr>\n",
       "      <th>...</th>\n",
       "      <td>...</td>\n",
       "      <td>...</td>\n",
       "      <td>...</td>\n",
       "      <td>...</td>\n",
       "      <td>...</td>\n",
       "      <td>...</td>\n",
       "    </tr>\n",
       "    <tr>\n",
       "      <th>237913</th>\n",
       "      <td>51966576</td>\n",
       "      <td>2070.0</td>\n",
       "      <td>506.0</td>\n",
       "      <td>petrol</td>\n",
       "      <td>7.993</td>\n",
       "      <td>22.3</td>\n",
       "    </tr>\n",
       "    <tr>\n",
       "      <th>133134</th>\n",
       "      <td>85107550</td>\n",
       "      <td>1435.0</td>\n",
       "      <td>543.0</td>\n",
       "      <td>petrol</td>\n",
       "      <td>6.499</td>\n",
       "      <td>24.1</td>\n",
       "    </tr>\n",
       "    <tr>\n",
       "      <th>366250</th>\n",
       "      <td>78547567</td>\n",
       "      <td>1435.0</td>\n",
       "      <td>543.0</td>\n",
       "      <td>petrol</td>\n",
       "      <td>6.499</td>\n",
       "      <td>24.1</td>\n",
       "    </tr>\n",
       "    <tr>\n",
       "      <th>658965</th>\n",
       "      <td>79948999</td>\n",
       "      <td>1435.0</td>\n",
       "      <td>543.0</td>\n",
       "      <td>petrol</td>\n",
       "      <td>6.499</td>\n",
       "      <td>24.1</td>\n",
       "    </tr>\n",
       "    <tr>\n",
       "      <th>228942</th>\n",
       "      <td>83257083</td>\n",
       "      <td>2070.0</td>\n",
       "      <td>572.0</td>\n",
       "      <td>petrol</td>\n",
       "      <td>7.993</td>\n",
       "      <td>25.2</td>\n",
       "    </tr>\n",
       "  </tbody>\n",
       "</table>\n",
       "<p>1000000 rows × 6 columns</p>\n",
       "</div>"
      ],
      "text/plain": [
       "              ID  Mass_(kg)  CO2_emission_(g/km) Fuel_type  Engine_size  \\\n",
       "809365    496212     1300.0                102.0    petrol        1.498   \n",
       "824486    151913     1300.0                102.0    petrol        1.498   \n",
       "249591    655499     1300.0                102.0    petrol        1.498   \n",
       "544920     91416     1300.0                102.0    petrol        1.498   \n",
       "626140    743789     1300.0                102.0    petrol        1.498   \n",
       "...          ...        ...                  ...       ...          ...   \n",
       "237913  51966576     2070.0                506.0    petrol        7.993   \n",
       "133134  85107550     1435.0                543.0    petrol        6.499   \n",
       "366250  78547567     1435.0                543.0    petrol        6.499   \n",
       "658965  79948999     1435.0                543.0    petrol        6.499   \n",
       "228942  83257083     2070.0                572.0    petrol        7.993   \n",
       "\n",
       "        Fuel_consumption_(l/100km)  \n",
       "809365                         5.8  \n",
       "824486                         5.8  \n",
       "249591                         5.8  \n",
       "544920                         5.8  \n",
       "626140                         5.8  \n",
       "...                            ...  \n",
       "237913                        22.3  \n",
       "133134                        24.1  \n",
       "366250                        24.1  \n",
       "658965                        24.1  \n",
       "228942                        25.2  \n",
       "\n",
       "[1000000 rows x 6 columns]"
      ]
     },
     "execution_count": 7,
     "metadata": {},
     "output_type": "execute_result"
    }
   ],
   "source": [
    "df.sort_values('CO2_emission_(g/km)')"
   ]
  },
  {
   "cell_type": "code",
   "execution_count": 8,
   "metadata": {},
   "outputs": [
    {
     "data": {
      "image/png": "[encoded data removed]",
      "text/plain": [
       "<Figure size 640x480 with 1 Axes>"
      ]
     },
     "metadata": {},
     "output_type": "display_data"
    }
   ],
   "source": [
    "plt.scatter(df['Engine_size'], df['CO2_emission_(g/km)'], color='blue')\n",
    "plt.xlabel('Engine size')\n",
    "plt.ylabel('CO2 emission')\n",
    "plt.show()"
   ]
  },
  {
   "cell_type": "markdown",
   "metadata": {},
   "source": [
    "---"
   ]
  },
  {
   "cell_type": "markdown",
   "metadata": {},
   "source": [
    "## Modelo de regresion lineal"
   ]
  },
  {
   "cell_type": "markdown",
   "metadata": {},
   "source": [
    "### Entrenamiento"
   ]
  },
  {
   "cell_type": "code",
   "execution_count": 9,
   "metadata": {},
   "outputs": [],
   "source": [
    "msk = np.random.rand(len(df)) < 0.8 #msk = mask. Lista de len(df) numeros aleatorios entre el 0 y 1. aproximadamente el 80% del conjunto (<0.8)\n",
    "train = df[msk]\n",
    "test = df[~msk]"
   ]
  },
  {
   "cell_type": "code",
   "execution_count": 10,
   "metadata": {},
   "outputs": [
    {
     "name": "stdout",
     "output_type": "stream",
     "text": [
      "Pendiente: [[38.738304]]\n",
      "Interseccion [89.73201059]\n"
     ]
    }
   ],
   "source": [
    "from sklearn import linear_model\n",
    "\n",
    "regr = linear_model.LinearRegression()\n",
    "train_x = np.asanyarray(train[['Engine_size']])\n",
    "train_y = np.asanyarray(train[['CO2_emission_(g/km)']])\n",
    "regr.fit(train_x, train_y)\n",
    "\n",
    "#Coeficientes\n",
    "print('Pendiente:', regr.coef_)\n",
    "print('Interseccion', regr.intercept_)"
   ]
  },
  {
   "cell_type": "markdown",
   "metadata": {},
   "source": [
    "##### Graficamos el resultado"
   ]
  },
  {
   "cell_type": "code",
   "execution_count": 11,
   "metadata": {},
   "outputs": [
    {
     "data": {
      "image/png": "[encoded data removed]",
      "text/plain": [
       "<Figure size 640x480 with 1 Axes>"
      ]
     },
     "metadata": {},
     "output_type": "display_data"
    }
   ],
   "source": [
    "plt.scatter(train['Engine_size'], train['CO2_emission_(g/km)'], color='blue')\n",
    "plt.plot(train_x, regr.coef_[0][0]*train_x + regr.intercept_[0], '-r')\n",
    "plt.xlabel('Engine size')\n",
    "plt.ylabel('CO2 emission')\n",
    "plt.show()"
   ]
  },
  {
   "cell_type": "markdown",
   "metadata": {},
   "source": [
    "### Testeo"
   ]
  },
  {
   "cell_type": "code",
   "execution_count": 12,
   "metadata": {},
   "outputs": [
    {
     "name": "stdout",
     "output_type": "stream",
     "text": [
      "Error medio absoluto: 13.87\n",
      "Residual de la suma de los cuadrados (MSE): 408.27\n",
      "R2-score: 0.57\n"
     ]
    }
   ],
   "source": [
    "from sklearn.metrics import r2_score\n",
    "\n",
    "test_x = np.asanyarray(test[['Engine_size']])\n",
    "test_y = np.asanyarray(test[['CO2_emission_(g/km)']])\n",
    "test_y_ = regr.predict(test_x)\n",
    "\n",
    "print('Error medio absoluto: %.2f' % np.mean(np.absolute(test_y_ - test_y)))\n",
    "print('Residual de la suma de los cuadrados (MSE): %0.2f' % np.mean((test_y_ - test_y)**2))\n",
    "print('R2-score: %0.2f' % r2_score(test_y, test_y_))"
   ]
  },
  {
   "cell_type": "code",
   "execution_count": null,
   "metadata": {},
   "outputs": [],
   "source": []
  }
 ],
 "metadata": {
  "kernelspec": {
   "display_name": "base",
   "language": "python",
   "name": "python3"
  },
  "language_info": {
   "codemirror_mode": {
    "name": "ipython",
    "version": 3
   },
   "file_extension": ".py",
   "mimetype": "text/x-python",
   "name": "python",
   "nbconvert_exporter": "python",
   "pygments_lexer": "ipython3",
   "version": "3.11.7"
  }
 },
 "nbformat": 4,
 "nbformat_minor": 2
}
