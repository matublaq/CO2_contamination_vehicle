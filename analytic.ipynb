{
 "cells": [
  {
   "cell_type": "code",
   "execution_count": 1,
   "metadata": {},
   "outputs": [],
   "source": [
    "import pandas as pd\n",
    "import numpy as np\n",
    "import matplotlib.pyplot as plt\n",
    "import seaborn as sns"
   ]
  },
  {
   "cell_type": "markdown",
   "metadata": {},
   "source": [
    "# <p style='text-align: center; text-decoration: underline; color: purple'>Analytics</p>"
   ]
  },
  {
   "cell_type": "code",
   "execution_count": 2,
   "metadata": {},
   "outputs": [
    {
     "data": {
      "text/html": [
       "<div>\n",
       "<style scoped>\n",
       "    .dataframe tbody tr th:only-of-type {\n",
       "        vertical-align: middle;\n",
       "    }\n",
       "\n",
       "    .dataframe tbody tr th {\n",
       "        vertical-align: top;\n",
       "    }\n",
       "\n",
       "    .dataframe thead th {\n",
       "        text-align: right;\n",
       "    }\n",
       "</style>\n",
       "<table border=\"1\" class=\"dataframe\">\n",
       "  <thead>\n",
       "    <tr style=\"text-align: right;\">\n",
       "      <th></th>\n",
       "      <th>ID</th>\n",
       "      <th>Mass_(kg)</th>\n",
       "      <th>CO2_emission_(g/km)</th>\n",
       "      <th>Fuel_type</th>\n",
       "      <th>Engine_size</th>\n",
       "      <th>Fuel_consumption_(l/100km)</th>\n",
       "    </tr>\n",
       "  </thead>\n",
       "  <tbody>\n",
       "    <tr>\n",
       "      <th>0</th>\n",
       "      <td>54509482</td>\n",
       "      <td>1280.0</td>\n",
       "      <td>133.0</td>\n",
       "      <td>petrol</td>\n",
       "      <td>0.999</td>\n",
       "      <td>5.9</td>\n",
       "    </tr>\n",
       "    <tr>\n",
       "      <th>1</th>\n",
       "      <td>76299391</td>\n",
       "      <td>1403.0</td>\n",
       "      <td>144.0</td>\n",
       "      <td>petrol</td>\n",
       "      <td>1.498</td>\n",
       "      <td>4.6</td>\n",
       "    </tr>\n",
       "    <tr>\n",
       "      <th>2</th>\n",
       "      <td>84743902</td>\n",
       "      <td>1165.0</td>\n",
       "      <td>92.0</td>\n",
       "      <td>petrol</td>\n",
       "      <td>1.490</td>\n",
       "      <td>4.1</td>\n",
       "    </tr>\n",
       "    <tr>\n",
       "      <th>3</th>\n",
       "      <td>83154489</td>\n",
       "      <td>1695.0</td>\n",
       "      <td>155.0</td>\n",
       "      <td>petrol</td>\n",
       "      <td>1.998</td>\n",
       "      <td>6.8</td>\n",
       "    </tr>\n",
       "    <tr>\n",
       "      <th>4</th>\n",
       "      <td>53246766</td>\n",
       "      <td>1347.0</td>\n",
       "      <td>144.0</td>\n",
       "      <td>petrol</td>\n",
       "      <td>1.498</td>\n",
       "      <td>5.1</td>\n",
       "    </tr>\n",
       "  </tbody>\n",
       "</table>\n",
       "</div>"
      ],
      "text/plain": [
       "         ID  Mass_(kg)  CO2_emission_(g/km) Fuel_type  Engine_size  \\\n",
       "0  54509482     1280.0                133.0    petrol        0.999   \n",
       "1  76299391     1403.0                144.0    petrol        1.498   \n",
       "2  84743902     1165.0                 92.0    petrol        1.490   \n",
       "3  83154489     1695.0                155.0    petrol        1.998   \n",
       "4  53246766     1347.0                144.0    petrol        1.498   \n",
       "\n",
       "   Fuel_consumption_(l/100km)  \n",
       "0                         5.9  \n",
       "1                         4.6  \n",
       "2                         4.1  \n",
       "3                         6.8  \n",
       "4                         5.1  "
      ]
     },
     "execution_count": 2,
     "metadata": {},
     "output_type": "execute_result"
    }
   ],
   "source": [
    "df = pd.read_csv('df_fit.csv')\n",
    "df.head()"
   ]
  },
  {
   "cell_type": "code",
   "execution_count": 3,
   "metadata": {},
   "outputs": [
    {
     "name": "stdout",
     "output_type": "stream",
     "text": [
      "(1000000, 6)\n"
     ]
    },
    {
     "data": {
      "text/html": [
       "<div>\n",
       "<style scoped>\n",
       "    .dataframe tbody tr th:only-of-type {\n",
       "        vertical-align: middle;\n",
       "    }\n",
       "\n",
       "    .dataframe tbody tr th {\n",
       "        vertical-align: top;\n",
       "    }\n",
       "\n",
       "    .dataframe thead th {\n",
       "        text-align: right;\n",
       "    }\n",
       "</style>\n",
       "<table border=\"1\" class=\"dataframe\">\n",
       "  <thead>\n",
       "    <tr style=\"text-align: right;\">\n",
       "      <th></th>\n",
       "      <th>ID</th>\n",
       "      <th>Mass_(kg)</th>\n",
       "      <th>CO2_emission_(g/km)</th>\n",
       "      <th>Engine_size</th>\n",
       "      <th>Fuel_consumption_(l/100km)</th>\n",
       "    </tr>\n",
       "  </thead>\n",
       "  <tbody>\n",
       "    <tr>\n",
       "      <th>count</th>\n",
       "      <td>1.000000e+06</td>\n",
       "      <td>1000000.000000</td>\n",
       "      <td>1000000.000000</td>\n",
       "      <td>1000000.000000</td>\n",
       "      <td>1000000.000000</td>\n",
       "    </tr>\n",
       "    <tr>\n",
       "      <th>mean</th>\n",
       "      <td>6.376881e+07</td>\n",
       "      <td>1419.008491</td>\n",
       "      <td>137.162264</td>\n",
       "      <td>1.530418</td>\n",
       "      <td>5.722221</td>\n",
       "    </tr>\n",
       "    <tr>\n",
       "      <th>std</th>\n",
       "      <td>2.088359e+07</td>\n",
       "      <td>281.397317</td>\n",
       "      <td>28.715074</td>\n",
       "      <td>0.511396</td>\n",
       "      <td>1.233159</td>\n",
       "    </tr>\n",
       "    <tr>\n",
       "      <th>min</th>\n",
       "      <td>6.000000e+00</td>\n",
       "      <td>570.000000</td>\n",
       "      <td>52.000000</td>\n",
       "      <td>0.658000</td>\n",
       "      <td>1.000000</td>\n",
       "    </tr>\n",
       "    <tr>\n",
       "      <th>25%</th>\n",
       "      <td>5.179585e+07</td>\n",
       "      <td>1210.000000</td>\n",
       "      <td>120.000000</td>\n",
       "      <td>1.197000</td>\n",
       "      <td>5.000000</td>\n",
       "    </tr>\n",
       "    <tr>\n",
       "      <th>50%</th>\n",
       "      <td>7.384128e+07</td>\n",
       "      <td>1395.000000</td>\n",
       "      <td>131.000000</td>\n",
       "      <td>1.498000</td>\n",
       "      <td>5.500000</td>\n",
       "    </tr>\n",
       "    <tr>\n",
       "      <th>75%</th>\n",
       "      <td>8.044056e+07</td>\n",
       "      <td>1570.000000</td>\n",
       "      <td>146.000000</td>\n",
       "      <td>1.968000</td>\n",
       "      <td>6.200000</td>\n",
       "    </tr>\n",
       "    <tr>\n",
       "      <th>max</th>\n",
       "      <td>1.496951e+08</td>\n",
       "      <td>3950.000000</td>\n",
       "      <td>572.000000</td>\n",
       "      <td>7.993000</td>\n",
       "      <td>25.200000</td>\n",
       "    </tr>\n",
       "  </tbody>\n",
       "</table>\n",
       "</div>"
      ],
      "text/plain": [
       "                 ID       Mass_(kg)  CO2_emission_(g/km)     Engine_size  \\\n",
       "count  1.000000e+06  1000000.000000       1000000.000000  1000000.000000   \n",
       "mean   6.376881e+07     1419.008491           137.162264        1.530418   \n",
       "std    2.088359e+07      281.397317            28.715074        0.511396   \n",
       "min    6.000000e+00      570.000000            52.000000        0.658000   \n",
       "25%    5.179585e+07     1210.000000           120.000000        1.197000   \n",
       "50%    7.384128e+07     1395.000000           131.000000        1.498000   \n",
       "75%    8.044056e+07     1570.000000           146.000000        1.968000   \n",
       "max    1.496951e+08     3950.000000           572.000000        7.993000   \n",
       "\n",
       "       Fuel_consumption_(l/100km)  \n",
       "count              1000000.000000  \n",
       "mean                     5.722221  \n",
       "std                      1.233159  \n",
       "min                      1.000000  \n",
       "25%                      5.000000  \n",
       "50%                      5.500000  \n",
       "75%                      6.200000  \n",
       "max                     25.200000  "
      ]
     },
     "execution_count": 3,
     "metadata": {},
     "output_type": "execute_result"
    }
   ],
   "source": [
    "print(df.shape)\n",
    "df.describe()"
   ]
  },
  {
   "cell_type": "code",
   "execution_count": 4,
   "metadata": {},
   "outputs": [
    {
     "data": {
      "image/png": "[encoded data removed]",
      "text/plain": [
       "<Figure size 640x480 with 6 Axes>"
      ]
     },
     "metadata": {},
     "output_type": "display_data"
    }
   ],
   "source": [
    "df.hist()\n",
    "plt.show()"
   ]
  },
  {
   "cell_type": "code",
   "execution_count": 5,
   "metadata": {},
   "outputs": [
    {
     "data": {
      "text/html": [
       "<div>\n",
       "<style scoped>\n",
       "    .dataframe tbody tr th:only-of-type {\n",
       "        vertical-align: middle;\n",
       "    }\n",
       "\n",
       "    .dataframe tbody tr th {\n",
       "        vertical-align: top;\n",
       "    }\n",
       "\n",
       "    .dataframe thead th {\n",
       "        text-align: right;\n",
       "    }\n",
       "</style>\n",
       "<table border=\"1\" class=\"dataframe\">\n",
       "  <thead>\n",
       "    <tr style=\"text-align: right;\">\n",
       "      <th></th>\n",
       "      <th>ID</th>\n",
       "      <th>Mass_(kg)</th>\n",
       "      <th>CO2_emission_(g/km)</th>\n",
       "      <th>Fuel_type</th>\n",
       "      <th>Engine_size</th>\n",
       "      <th>Fuel_consumption_(l/100km)</th>\n",
       "    </tr>\n",
       "  </thead>\n",
       "  <tbody>\n",
       "    <tr>\n",
       "      <th>0</th>\n",
       "      <td>54509482</td>\n",
       "      <td>1280.0</td>\n",
       "      <td>133.0</td>\n",
       "      <td>petrol</td>\n",
       "      <td>0.999</td>\n",
       "      <td>5.9</td>\n",
       "    </tr>\n",
       "    <tr>\n",
       "      <th>1</th>\n",
       "      <td>76299391</td>\n",
       "      <td>1403.0</td>\n",
       "      <td>144.0</td>\n",
       "      <td>petrol</td>\n",
       "      <td>1.498</td>\n",
       "      <td>4.6</td>\n",
       "    </tr>\n",
       "    <tr>\n",
       "      <th>2</th>\n",
       "      <td>84743902</td>\n",
       "      <td>1165.0</td>\n",
       "      <td>92.0</td>\n",
       "      <td>petrol</td>\n",
       "      <td>1.490</td>\n",
       "      <td>4.1</td>\n",
       "    </tr>\n",
       "    <tr>\n",
       "      <th>3</th>\n",
       "      <td>83154489</td>\n",
       "      <td>1695.0</td>\n",
       "      <td>155.0</td>\n",
       "      <td>petrol</td>\n",
       "      <td>1.998</td>\n",
       "      <td>6.8</td>\n",
       "    </tr>\n",
       "    <tr>\n",
       "      <th>4</th>\n",
       "      <td>53246766</td>\n",
       "      <td>1347.0</td>\n",
       "      <td>144.0</td>\n",
       "      <td>petrol</td>\n",
       "      <td>1.498</td>\n",
       "      <td>5.1</td>\n",
       "    </tr>\n",
       "  </tbody>\n",
       "</table>\n",
       "</div>"
      ],
      "text/plain": [
       "         ID  Mass_(kg)  CO2_emission_(g/km) Fuel_type  Engine_size  \\\n",
       "0  54509482     1280.0                133.0    petrol        0.999   \n",
       "1  76299391     1403.0                144.0    petrol        1.498   \n",
       "2  84743902     1165.0                 92.0    petrol        1.490   \n",
       "3  83154489     1695.0                155.0    petrol        1.998   \n",
       "4  53246766     1347.0                144.0    petrol        1.498   \n",
       "\n",
       "   Fuel_consumption_(l/100km)  \n",
       "0                         5.9  \n",
       "1                         4.6  \n",
       "2                         4.1  \n",
       "3                         6.8  \n",
       "4                         5.1  "
      ]
     },
     "execution_count": 5,
     "metadata": {},
     "output_type": "execute_result"
    }
   ],
   "source": [
    "df1 = df[(df['Mass_(kg)'] >= 900) & (df['Mass_(kg)'] <= 3000)]\n",
    "df1.head()"
   ]
  },
  {
   "cell_type": "code",
   "execution_count": 6,
   "metadata": {},
   "outputs": [
    {
     "data": {
      "image/png": "[encoded data removed]",
      "text/plain": [
       "<Figure size 640x480 with 1 Axes>"
      ]
     },
     "metadata": {},
     "output_type": "display_data"
    }
   ],
   "source": [
    "plt.scatter(df['Fuel_consumption_(l/100km)'], df['CO2_emission_(g/km)'], color='blue')\n",
    "plt.xlabel('Fuel consumption')\n",
    "plt.ylabel('CO2 emission')\n",
    "plt.show()"
   ]
  },
  {
   "cell_type": "code",
   "execution_count": 7,
   "metadata": {},
   "outputs": [
    {
     "data": {
      "text/html": [
       "<div>\n",
       "<style scoped>\n",
       "    .dataframe tbody tr th:only-of-type {\n",
       "        vertical-align: middle;\n",
       "    }\n",
       "\n",
       "    .dataframe tbody tr th {\n",
       "        vertical-align: top;\n",
       "    }\n",
       "\n",
       "    .dataframe thead th {\n",
       "        text-align: right;\n",
       "    }\n",
       "</style>\n",
       "<table border=\"1\" class=\"dataframe\">\n",
       "  <thead>\n",
       "    <tr style=\"text-align: right;\">\n",
       "      <th></th>\n",
       "      <th>ID</th>\n",
       "      <th>Mass_(kg)</th>\n",
       "      <th>CO2_emission_(g/km)</th>\n",
       "      <th>Fuel_type</th>\n",
       "      <th>Engine_size</th>\n",
       "      <th>Fuel_consumption_(l/100km)</th>\n",
       "    </tr>\n",
       "  </thead>\n",
       "  <tbody>\n",
       "    <tr>\n",
       "      <th>150382</th>\n",
       "      <td>237862</td>\n",
       "      <td>2295.0</td>\n",
       "      <td>52.0</td>\n",
       "      <td>petrol</td>\n",
       "      <td>2.894</td>\n",
       "      <td>2.3</td>\n",
       "    </tr>\n",
       "    <tr>\n",
       "      <th>526485</th>\n",
       "      <td>196032</td>\n",
       "      <td>2295.0</td>\n",
       "      <td>52.0</td>\n",
       "      <td>petrol</td>\n",
       "      <td>2.894</td>\n",
       "      <td>2.3</td>\n",
       "    </tr>\n",
       "    <tr>\n",
       "      <th>662185</th>\n",
       "      <td>478018</td>\n",
       "      <td>2295.0</td>\n",
       "      <td>52.0</td>\n",
       "      <td>petrol</td>\n",
       "      <td>2.894</td>\n",
       "      <td>2.3</td>\n",
       "    </tr>\n",
       "    <tr>\n",
       "      <th>229603</th>\n",
       "      <td>106304</td>\n",
       "      <td>2295.0</td>\n",
       "      <td>53.0</td>\n",
       "      <td>petrol</td>\n",
       "      <td>2.894</td>\n",
       "      <td>2.3</td>\n",
       "    </tr>\n",
       "    <tr>\n",
       "      <th>678503</th>\n",
       "      <td>613051</td>\n",
       "      <td>2295.0</td>\n",
       "      <td>53.0</td>\n",
       "      <td>petrol</td>\n",
       "      <td>2.894</td>\n",
       "      <td>2.3</td>\n",
       "    </tr>\n",
       "    <tr>\n",
       "      <th>...</th>\n",
       "      <td>...</td>\n",
       "      <td>...</td>\n",
       "      <td>...</td>\n",
       "      <td>...</td>\n",
       "      <td>...</td>\n",
       "      <td>...</td>\n",
       "    </tr>\n",
       "    <tr>\n",
       "      <th>62906</th>\n",
       "      <td>80884753</td>\n",
       "      <td>2866.0</td>\n",
       "      <td>456.0</td>\n",
       "      <td>petrol</td>\n",
       "      <td>3.982</td>\n",
       "      <td>20.1</td>\n",
       "    </tr>\n",
       "    <tr>\n",
       "      <th>760416</th>\n",
       "      <td>55576365</td>\n",
       "      <td>1765.0</td>\n",
       "      <td>486.0</td>\n",
       "      <td>petrol</td>\n",
       "      <td>6.498</td>\n",
       "      <td>17.9</td>\n",
       "    </tr>\n",
       "    <tr>\n",
       "      <th>229074</th>\n",
       "      <td>56750184</td>\n",
       "      <td>1765.0</td>\n",
       "      <td>486.0</td>\n",
       "      <td>petrol</td>\n",
       "      <td>6.498</td>\n",
       "      <td>19.6</td>\n",
       "    </tr>\n",
       "    <tr>\n",
       "      <th>680982</th>\n",
       "      <td>51966583</td>\n",
       "      <td>2070.0</td>\n",
       "      <td>487.0</td>\n",
       "      <td>petrol</td>\n",
       "      <td>7.993</td>\n",
       "      <td>21.5</td>\n",
       "    </tr>\n",
       "    <tr>\n",
       "      <th>353649</th>\n",
       "      <td>83257083</td>\n",
       "      <td>2070.0</td>\n",
       "      <td>572.0</td>\n",
       "      <td>petrol</td>\n",
       "      <td>7.993</td>\n",
       "      <td>25.2</td>\n",
       "    </tr>\n",
       "  </tbody>\n",
       "</table>\n",
       "<p>1000000 rows × 6 columns</p>\n",
       "</div>"
      ],
      "text/plain": [
       "              ID  Mass_(kg)  CO2_emission_(g/km) Fuel_type  Engine_size  \\\n",
       "150382    237862     2295.0                 52.0    petrol        2.894   \n",
       "526485    196032     2295.0                 52.0    petrol        2.894   \n",
       "662185    478018     2295.0                 52.0    petrol        2.894   \n",
       "229603    106304     2295.0                 53.0    petrol        2.894   \n",
       "678503    613051     2295.0                 53.0    petrol        2.894   \n",
       "...          ...        ...                  ...       ...          ...   \n",
       "62906   80884753     2866.0                456.0    petrol        3.982   \n",
       "760416  55576365     1765.0                486.0    petrol        6.498   \n",
       "229074  56750184     1765.0                486.0    petrol        6.498   \n",
       "680982  51966583     2070.0                487.0    petrol        7.993   \n",
       "353649  83257083     2070.0                572.0    petrol        7.993   \n",
       "\n",
       "        Fuel_consumption_(l/100km)  \n",
       "150382                         2.3  \n",
       "526485                         2.3  \n",
       "662185                         2.3  \n",
       "229603                         2.3  \n",
       "678503                         2.3  \n",
       "...                            ...  \n",
       "62906                         20.1  \n",
       "760416                        17.9  \n",
       "229074                        19.6  \n",
       "680982                        21.5  \n",
       "353649                        25.2  \n",
       "\n",
       "[1000000 rows x 6 columns]"
      ]
     },
     "execution_count": 7,
     "metadata": {},
     "output_type": "execute_result"
    }
   ],
   "source": [
    "df.sort_values('CO2_emission_(g/km)') #Corroborando, el auto que menos co2 emite es un porche hibrido. Lo subieron como petrol. Esta mal."
   ]
  },
  {
   "cell_type": "code",
   "execution_count": 8,
   "metadata": {},
   "outputs": [
    {
     "data": {
      "image/png": "[encoded data removed]",
      "text/plain": [
       "<Figure size 640x480 with 1 Axes>"
      ]
     },
     "metadata": {},
     "output_type": "display_data"
    }
   ],
   "source": [
    "plt.scatter(df['Engine_size'], df['CO2_emission_(g/km)'], color='blue')\n",
    "plt.xlabel('Engine size')\n",
    "plt.ylabel('CO2 emission')\n",
    "plt.show()"
   ]
  },
  {
   "cell_type": "markdown",
   "metadata": {},
   "source": [
    "---"
   ]
  },
  {
   "cell_type": "markdown",
   "metadata": {},
   "source": [
    "## Modelo de regresion lineal"
   ]
  },
  {
   "cell_type": "markdown",
   "metadata": {},
   "source": [
    "### Entrenamiento"
   ]
  },
  {
   "cell_type": "code",
   "execution_count": 9,
   "metadata": {},
   "outputs": [],
   "source": [
    "msk = np.random.rand(len(df)) < 0.8 #msk = mask. Lista de len(df) numeros aleatorios entre el 0 y 1. aproximadamente el 80% del conjunto (<0.8)\n",
    "train = df[msk]\n",
    "test = df[~msk]"
   ]
  },
  {
   "cell_type": "code",
   "execution_count": 10,
   "metadata": {},
   "outputs": [
    {
     "name": "stdout",
     "output_type": "stream",
     "text": [
      "Pendiente: [[36.36074793]]\n",
      "Interseccion [81.52595187]\n"
     ]
    }
   ],
   "source": [
    "from sklearn import linear_model\n",
    "\n",
    "regr = linear_model.LinearRegression()\n",
    "train_x = np.asanyarray(train[['Engine_size']])\n",
    "train_y = np.asanyarray(train[['CO2_emission_(g/km)']])\n",
    "regr.fit(train_x, train_y)\n",
    "\n",
    "#Coeficientes\n",
    "print('Pendiente:', regr.coef_)\n",
    "print('Interseccion', regr.intercept_)"
   ]
  },
  {
   "cell_type": "markdown",
   "metadata": {},
   "source": [
    "##### Graficamos el resultado"
   ]
  },
  {
   "cell_type": "code",
   "execution_count": 11,
   "metadata": {},
   "outputs": [
    {
     "data": {
      "image/png": "[encoded data removed]",
      "text/plain": [
       "<Figure size 640x480 with 1 Axes>"
      ]
     },
     "metadata": {},
     "output_type": "display_data"
    }
   ],
   "source": [
    "plt.scatter(train['Engine_size'], train['CO2_emission_(g/km)'], color='blue')\n",
    "plt.plot(train_x, regr.coef_[0][0]*train_x + regr.intercept_[0], '-r')\n",
    "plt.xlabel('Engine size')\n",
    "plt.ylabel('CO2 emission')\n",
    "plt.show()"
   ]
  },
  {
   "cell_type": "markdown",
   "metadata": {},
   "source": [
    "### Testeo"
   ]
  },
  {
   "cell_type": "code",
   "execution_count": 12,
   "metadata": {},
   "outputs": [
    {
     "name": "stdout",
     "output_type": "stream",
     "text": [
      "Error medio absoluto: 15.98\n",
      "Residual de la suma de los cuadrados (MSE): 478.89\n",
      "R2-score: 0.41\n"
     ]
    }
   ],
   "source": [
    "from sklearn.metrics import r2_score\n",
    "\n",
    "test_x = np.asanyarray(test[['Engine_size']])\n",
    "test_y = np.asanyarray(test[['CO2_emission_(g/km)']])\n",
    "test_y_ = regr.predict(test_x)\n",
    "\n",
    "print('Error medio absoluto: %.2f' % np.mean(np.absolute(test_y_ - test_y)))\n",
    "print('Residual de la suma de los cuadrados (MSE): %0.2f' % np.mean((test_y_ - test_y)**2))\n",
    "print('R2-score: %0.2f' % r2_score(test_y, test_y_))"
   ]
  },
  {
   "cell_type": "code",
   "execution_count": null,
   "metadata": {},
   "outputs": [],
   "source": []
  }
 ],
 "metadata": {
  "kernelspec": {
   "display_name": "base",
   "language": "python",
   "name": "python3"
  },
  "language_info": {
   "codemirror_mode": {
    "name": "ipython",
    "version": 3
   },
   "file_extension": ".py",
   "mimetype": "text/x-python",
   "name": "python",
   "nbconvert_exporter": "python",
   "pygments_lexer": "ipython3",
   "version": "3.11.5"
  }
 },
 "nbformat": 4,
 "nbformat_minor": 2
}
